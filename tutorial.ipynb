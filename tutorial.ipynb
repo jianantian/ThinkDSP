{
 "cells": [
  {
   "cell_type": "code",
   "execution_count": 1,
   "metadata": {},
   "outputs": [],
   "source": [
    "import torch"
   ]
  },
  {
   "cell_type": "code",
   "execution_count": 2,
   "metadata": {},
   "outputs": [],
   "source": [
    "from torch import nn, optim"
   ]
  },
  {
   "cell_type": "code",
   "execution_count": 3,
   "metadata": {},
   "outputs": [],
   "source": [
    "from torch.utils import data"
   ]
  },
  {
   "cell_type": "code",
   "execution_count": 4,
   "metadata": {},
   "outputs": [],
   "source": [
    "from loguru import logger"
   ]
  },
  {
   "cell_type": "code",
   "execution_count": 5,
   "metadata": {},
   "outputs": [],
   "source": [
    "import visualize"
   ]
  },
  {
   "cell_type": "code",
   "execution_count": 6,
   "metadata": {},
   "outputs": [],
   "source": [
    "import numpy as np"
   ]
  },
  {
   "cell_type": "code",
   "execution_count": 7,
   "metadata": {},
   "outputs": [],
   "source": [
    "import time"
   ]
  },
  {
   "cell_type": "code",
   "execution_count": 8,
   "metadata": {},
   "outputs": [],
   "source": [
    "import torchvision\n",
    "import torchvision.transforms"
   ]
  },
  {
   "cell_type": "code",
   "execution_count": 9,
   "metadata": {},
   "outputs": [],
   "source": [
    "import resnet, base"
   ]
  },
  {
   "cell_type": "code",
   "execution_count": 10,
   "metadata": {},
   "outputs": [],
   "source": [
    "def learning_rate_schedules(batch_num, initial_lr, warmup_batchs, total_batchs, decrease_schedules):\n",
    "    \"\"\"\n",
    "    \"\"\"\n",
    "    if batch_num < warmup_batchs:\n",
    "        lr = initial_lr * (batch_num+1)/warmup_batchs\n",
    "    else:\n",
    "        num = batch_num - warmup_batchs + 1\n",
    "        lr = 0.5 * (1 + math.cos(math.pi * (num / total_batchs))) * initial_lr\n",
    "    return lr"
   ]
  },
  {
   "cell_type": "code",
   "execution_count": 11,
   "metadata": {},
   "outputs": [],
   "source": [
    "root = 'C:/Datasets/CIFAR10'"
   ]
  },
  {
   "cell_type": "code",
   "execution_count": 12,
   "metadata": {},
   "outputs": [],
   "source": [
    "classes = ('plane', 'car', 'bird', 'cat',\n",
    "           'deer', 'dog', 'frog', 'horse', 'ship', 'truck')"
   ]
  },
  {
   "cell_type": "code",
   "execution_count": 30,
   "metadata": {},
   "outputs": [],
   "source": [
    "train_transform = torchvision.transforms.Compose(\n",
    "    [torchvision.transforms.ColorJitter(brightness=0.2, contrast=0.2, saturation=0.2, hue=0.2),\n",
    "     torchvision.transforms.RandomRotation(10),\n",
    "     torchvision.transforms.RandomHorizontalFlip(),\n",
    "    torchvision.transforms.RandomCrop(size=[32,32], padding=4, pad_if_needed=True),\n",
    "    torchvision.transforms.ToTensor(),\n",
    "     torchvision.transforms.Normalize((0.49140089750289917, 0.4821591377258301, 0.4465310275554657),\n",
    "                                      (0.24702748656272888, 0.24348321557044983, 0.26158758997917175))\n",
    "    ])"
   ]
  },
  {
   "cell_type": "code",
   "execution_count": 31,
   "metadata": {},
   "outputs": [],
   "source": [
    "test_transform= torchvision.transforms.Compose(\n",
    "    [torchvision.transforms.ToTensor(),\n",
    "     torchvision.transforms.Normalize((0.49140089750289917, 0.4821591377258301, 0.4465310275554657),\n",
    "                                      (0.24702748656272888, 0.24348321557044983, 0.26158758997917175))])"
   ]
  },
  {
   "cell_type": "code",
   "execution_count": 32,
   "metadata": {},
   "outputs": [
    {
     "name": "stdout",
     "output_type": "stream",
     "text": [
      "Files already downloaded and verified\n"
     ]
    }
   ],
   "source": [
    "train_dataset = torchvision.datasets.CIFAR10(root, transform=train_transform, download=True)"
   ]
  },
  {
   "cell_type": "code",
   "execution_count": 33,
   "metadata": {},
   "outputs": [],
   "source": [
    "img, label = train_dataset[0]"
   ]
  },
  {
   "cell_type": "code",
   "execution_count": 34,
   "metadata": {},
   "outputs": [
    {
     "name": "stdout",
     "output_type": "stream",
     "text": [
      "Files already downloaded and verified\n"
     ]
    }
   ],
   "source": [
    "test_dataset = torchvision.datasets.CIFAR10(root, train=False, transform=test_transform, download=True)"
   ]
  },
  {
   "cell_type": "code",
   "execution_count": 35,
   "metadata": {},
   "outputs": [],
   "source": [
    "train_dt, valid_dt = data.random_split(train_dataset, (40000, 10000))"
   ]
  },
  {
   "cell_type": "code",
   "execution_count": 36,
   "metadata": {},
   "outputs": [
    {
     "name": "stderr",
     "output_type": "stream",
     "text": [
      "2019-06-26 14:33:41.942 | DEBUG    | resnet:get_residual_unit:158 - in_channels: 16, out_channels: 16, stride: 1\n",
      "2019-06-26 14:33:41.950 | DEBUG    | resnet:get_residual_unit:158 - in_channels: 16, out_channels: 16, stride: 1\n",
      "2019-06-26 14:33:41.955 | DEBUG    | resnet:get_residual_unit:158 - in_channels: 16, out_channels: 16, stride: 1\n",
      "2019-06-26 14:33:41.960 | DEBUG    | resnet:get_residual_unit:158 - in_channels: 16, out_channels: 16, stride: 1\n",
      "2019-06-26 14:33:42.144 | DEBUG    | resnet:get_residual_unit:158 - in_channels: 16, out_channels: 16, stride: 1\n",
      "2019-06-26 14:33:42.146 | DEBUG    | resnet:get_residual_unit:158 - in_channels: 16, out_channels: 32, stride: 2\n",
      "2019-06-26 14:33:42.148 | DEBUG    | resnet:get_residual_unit:158 - in_channels: 32, out_channels: 32, stride: 1\n",
      "2019-06-26 14:33:42.151 | DEBUG    | resnet:get_residual_unit:158 - in_channels: 32, out_channels: 32, stride: 1\n",
      "2019-06-26 14:33:42.152 | DEBUG    | resnet:get_residual_unit:158 - in_channels: 32, out_channels: 32, stride: 1\n",
      "2019-06-26 14:33:42.154 | DEBUG    | resnet:get_residual_unit:158 - in_channels: 32, out_channels: 32, stride: 1\n",
      "2019-06-26 14:33:42.156 | DEBUG    | resnet:get_residual_unit:158 - in_channels: 32, out_channels: 64, stride: 2\n",
      "2019-06-26 14:33:42.158 | DEBUG    | resnet:get_residual_unit:158 - in_channels: 64, out_channels: 64, stride: 1\n",
      "2019-06-26 14:33:42.161 | DEBUG    | resnet:get_residual_unit:158 - in_channels: 64, out_channels: 64, stride: 1\n",
      "2019-06-26 14:33:42.163 | DEBUG    | resnet:get_residual_unit:158 - in_channels: 64, out_channels: 64, stride: 1\n",
      "2019-06-26 14:33:42.166 | DEBUG    | resnet:get_residual_unit:158 - in_channels: 64, out_channels: 64, stride: 1\n"
     ]
    }
   ],
   "source": [
    "net = resnet.ResNet32()"
   ]
  },
  {
   "cell_type": "code",
   "execution_count": 38,
   "metadata": {},
   "outputs": [],
   "source": [
    "learning_rate = 0.1"
   ]
  },
  {
   "cell_type": "code",
   "execution_count": 39,
   "metadata": {},
   "outputs": [],
   "source": [
    "optimizer = optim.SGD(net.parameters(), lr=learning_rate, momentum=0.9)"
   ]
  },
  {
   "cell_type": "code",
   "execution_count": 40,
   "metadata": {},
   "outputs": [],
   "source": [
    "# optimizer = optim.Adam(net.parameters(), lr=learning_rate)"
   ]
  },
  {
   "cell_type": "code",
   "execution_count": 41,
   "metadata": {},
   "outputs": [],
   "source": [
    "batch_size = 512"
   ]
  },
  {
   "cell_type": "code",
   "execution_count": 42,
   "metadata": {},
   "outputs": [],
   "source": [
    "epoch = 50"
   ]
  },
  {
   "cell_type": "code",
   "execution_count": 43,
   "metadata": {},
   "outputs": [],
   "source": [
    "use_cuda = net.use_cuda"
   ]
  },
  {
   "cell_type": "code",
   "execution_count": 26,
   "metadata": {},
   "outputs": [],
   "source": [
    "if use_cuda:\n",
    "    net = net.cuda()"
   ]
  },
  {
   "cell_type": "code",
   "execution_count": 27,
   "metadata": {},
   "outputs": [],
   "source": [
    "use_cuda = net.use_cuda"
   ]
  },
  {
   "cell_type": "code",
   "execution_count": 28,
   "metadata": {},
   "outputs": [
    {
     "name": "stderr",
     "output_type": "stream",
     "text": [
      "WARNING:root:Setting up a new session...\n"
     ]
    }
   ],
   "source": [
    "visualizer = visualize.Visualizer('Net')"
   ]
  },
  {
   "cell_type": "code",
   "execution_count": null,
   "metadata": {},
   "outputs": [
    {
     "name": "stderr",
     "output_type": "stream",
     "text": [
      "2019-06-26 11:11:50.896 | INFO     | __main__:<module>:27 - epoch num: 0, loss: 180.83264923095703, val_precision: 0.17972001433372498, test_precision: 0.1753000020980835, learning_rate: 0.001, time: 74.38428950309753\n",
      "2019-06-26 11:13:04.575 | INFO     | __main__:<module>:27 - epoch num: 1, loss: 165.21205389499664, val_precision: 0.2555200159549713, test_precision: 0.25529998540878296, learning_rate: 0.001, time: 73.60024309158325\n",
      "2019-06-26 11:14:22.128 | INFO     | __main__:<module>:27 - epoch num: 2, loss: 146.89814949035645, val_precision: 0.2990799844264984, test_precision: 0.30730003118515015, learning_rate: 0.001, time: 77.48620462417603\n",
      "2019-06-26 11:15:36.563 | INFO     | __main__:<module>:27 - epoch num: 3, loss: 138.3850153684616, val_precision: 0.33785998821258545, test_precision: 0.33889999985694885, learning_rate: 0.001, time: 74.36424970626831\n",
      "2019-06-26 11:16:50.567 | INFO     | __main__:<module>:27 - epoch num: 4, loss: 132.1831487417221, val_precision: 0.37535998225212097, test_precision: 0.38109999895095825, learning_rate: 0.001, time: 73.90895915031433\n"
     ]
    }
   ],
   "source": [
    "for e in range(epoch):\n",
    "    start_time = time.time()\n",
    "    net.train()\n",
    "    train_dt, valid_dt = data.random_split(train_dataset, (40000, 10000))\n",
    "    train_data_iter = data.DataLoader(train_dt, batch_size=batch_size, shuffle=True)\n",
    "    running_loss = 0.0\n",
    "    for i, (train_data, label) in enumerate(train_data_iter):\n",
    "        if use_cuda:\n",
    "            train_data = train_data.cuda()\n",
    "            label = label.cuda()\n",
    "        optimizer.zero_grad()\n",
    "        prediction = net(train_data)\n",
    "        loss = net.loss(prediction, label)\n",
    "        loss.backward()\n",
    "        optimizer.step()\n",
    "        running_loss += loss.item()\n",
    "    \n",
    "    if e > 1 and e % 20 == 0:\n",
    "        learning_rate = learning_rate / 5\n",
    "        optimizer = optim.Adam(net.parameters(), lr=learning_rate)\n",
    "    valid_train_res, valid_ap = base.validate(net, train_dataset, batch_size, num_class=10)\n",
    "    valid_test_res, test_ap = base.validate(net, test_dataset, batch_size, num_class=10)\n",
    "    loss_dct = {'loss': running_loss}\n",
    "    val_precision = valid_train_res['map']\n",
    "    val_ap_dct = {classes[i]: v for i, v in enumerate(valid_ap)}\n",
    "    test_precision = valid_test_res['map']\n",
    "    logger.info(f'epoch num: {e}, loss: {running_loss}, val_precision: {val_precision}, test_precision: {test_precision}, learning_rate: {learning_rate}, time: {time.time() - start_time}')\n",
    "    visualizer.plot(loss_dct)\n",
    "    visualizer.plot({'val_precision': val_precision})\n",
    "    visualizer.plot(val_ap_dct)\n",
    "    visualizer.plot({'test_precision': test_precision})"
   ]
  },
  {
   "cell_type": "code",
   "execution_count": null,
   "metadata": {},
   "outputs": [],
   "source": []
  },
  {
   "cell_type": "code",
   "execution_count": 149,
   "metadata": {},
   "outputs": [],
   "source": [
    "torch.save(net.state_dict(), 'resnet32_01.save')"
   ]
  },
  {
   "cell_type": "code",
   "execution_count": 2,
   "metadata": {},
   "outputs": [
    {
     "data": {
      "text/plain": [
       "{'loss': 529.4704940319061,\n",
       " 'val_precision': 0.78054,\n",
       " 'test_precision': 0.6408,\n",
       " 'learning_rate': 0.01,\n",
       " 'time': 19.557708978652954}"
      ]
     },
     "execution_count": 2,
     "metadata": {},
     "output_type": "execute_result"
    }
   ],
   "source": [
    "{'loss': 529.4704940319061, 'val_precision': 0.78054, 'test_precision': 0.6408, 'learning_rate': 0.01, 'time': 19.557708978652954}"
   ]
  },
  {
   "cell_type": "code",
   "execution_count": 19,
   "metadata": {},
   "outputs": [
    {
     "name": "stderr",
     "output_type": "stream",
     "text": [
      "Downloading: \"https://download.pytorch.org/models/resnet34-333f7ec4.pth\" to C:\\Users\\emile/.cache\\torch\\checkpoints\\resnet34-333f7ec4.pth\n",
      "100%|████████████████████████████████████████████████████████████████████| 87306240/87306240 [00:13<00:00, 6268008.65it/s]\n"
     ]
    }
   ],
   "source": [
    "net = torchvision.models.resnet34(pretrained=True)"
   ]
  },
  {
   "cell_type": "code",
   "execution_count": 25,
   "metadata": {},
   "outputs": [],
   "source": [
    "fake_input = torch.randn(10, 3, 224, 224)"
   ]
  },
  {
   "cell_type": "code",
   "execution_count": 29,
   "metadata": {},
   "outputs": [
    {
     "data": {
      "text/plain": [
       "['CenterCrop',\n",
       " 'ColorJitter',\n",
       " 'Compose',\n",
       " 'FiveCrop',\n",
       " 'Grayscale',\n",
       " 'Lambda',\n",
       " 'LinearTransformation',\n",
       " 'Normalize',\n",
       " 'Pad',\n",
       " 'RandomAffine',\n",
       " 'RandomApply',\n",
       " 'RandomChoice',\n",
       " 'RandomCrop',\n",
       " 'RandomGrayscale',\n",
       " 'RandomHorizontalFlip',\n",
       " 'RandomOrder',\n",
       " 'RandomResizedCrop',\n",
       " 'RandomRotation',\n",
       " 'RandomSizedCrop',\n",
       " 'RandomVerticalFlip',\n",
       " 'Resize',\n",
       " 'Scale',\n",
       " 'TenCrop',\n",
       " 'ToPILImage',\n",
       " 'ToTensor',\n",
       " '__builtins__',\n",
       " '__cached__',\n",
       " '__doc__',\n",
       " '__file__',\n",
       " '__loader__',\n",
       " '__name__',\n",
       " '__package__',\n",
       " '__path__',\n",
       " '__spec__',\n",
       " 'functional',\n",
       " 'transforms']"
      ]
     },
     "execution_count": 29,
     "metadata": {},
     "output_type": "execute_result"
    }
   ],
   "source": [
    "dir(torchvision.transforms)"
   ]
  },
  {
   "cell_type": "code",
   "execution_count": 46,
   "metadata": {},
   "outputs": [],
   "source": [
    "import PIL"
   ]
  },
  {
   "cell_type": "code",
   "execution_count": 54,
   "metadata": {},
   "outputs": [],
   "source": [
    "_filename = 'C:/Users/emile/Pictures/test_0.png'"
   ]
  },
  {
   "cell_type": "code",
   "execution_count": 55,
   "metadata": {},
   "outputs": [],
   "source": [
    "im = PIL.Image.open(_filename)"
   ]
  },
  {
   "cell_type": "code",
   "execution_count": 56,
   "metadata": {},
   "outputs": [
    {
     "data": {
      "text/plain": [
       "'PNG'"
      ]
     },
     "execution_count": 56,
     "metadata": {},
     "output_type": "execute_result"
    }
   ],
   "source": [
    "im.format"
   ]
  },
  {
   "cell_type": "code",
   "execution_count": 57,
   "metadata": {},
   "outputs": [
    {
     "data": {
      "text/plain": [
       "(500, 282)"
      ]
     },
     "execution_count": 57,
     "metadata": {},
     "output_type": "execute_result"
    }
   ],
   "source": [
    "im.size"
   ]
  },
  {
   "cell_type": "code",
   "execution_count": null,
   "metadata": {},
   "outputs": [],
   "source": [
    "im."
   ]
  }
 ],
 "metadata": {
  "kernelspec": {
   "display_name": "Python [conda env:torch]",
   "language": "python",
   "name": "conda-env-torch-py"
  },
  "language_info": {
   "codemirror_mode": {
    "name": "ipython",
    "version": 3
   },
   "file_extension": ".py",
   "mimetype": "text/x-python",
   "name": "python",
   "nbconvert_exporter": "python",
   "pygments_lexer": "ipython3",
   "version": "3.7.3"
  }
 },
 "nbformat": 4,
 "nbformat_minor": 2
}
