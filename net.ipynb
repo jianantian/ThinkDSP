{
 "cells": [
  {
   "cell_type": "code",
   "execution_count": 1,
   "metadata": {},
   "outputs": [],
   "source": [
    "from pathlib import Path\n",
    "from scipy.io import wavfile"
   ]
  },
  {
   "cell_type": "code",
   "execution_count": 2,
   "metadata": {},
   "outputs": [],
   "source": [
    "import numpy as np"
   ]
  },
  {
   "cell_type": "code",
   "execution_count": 3,
   "metadata": {},
   "outputs": [],
   "source": [
    "import torch"
   ]
  },
  {
   "cell_type": "code",
   "execution_count": 4,
   "metadata": {},
   "outputs": [],
   "source": [
    "from torch import nn"
   ]
  },
  {
   "cell_type": "code",
   "execution_count": 5,
   "metadata": {},
   "outputs": [],
   "source": [
    "from torch.utils import data"
   ]
  },
  {
   "cell_type": "code",
   "execution_count": 6,
   "metadata": {},
   "outputs": [],
   "source": [
    "from  sklearn.model_selection import train_test_split"
   ]
  },
  {
   "cell_type": "code",
   "execution_count": 7,
   "metadata": {},
   "outputs": [],
   "source": [
    "from collections import OrderedDict"
   ]
  },
  {
   "cell_type": "code",
   "execution_count": 8,
   "metadata": {},
   "outputs": [],
   "source": [
    "import utils"
   ]
  },
  {
   "cell_type": "code",
   "execution_count": 9,
   "metadata": {},
   "outputs": [],
   "source": [
    "class NamedLayer(nn.Sequential):\n",
    "    def __init__(self, name, start=None, end=None, bn=False):\n",
    "        super().__init__()\n",
    "        self.name = name\n",
    "        self.start = start\n",
    "        self.end = end\n",
    "        self.bn = bn"
   ]
  },
  {
   "cell_type": "code",
   "execution_count": 10,
   "metadata": {},
   "outputs": [],
   "source": [
    "def get_convolutional_layer(index, in_channels, out_channels, kernel_size=3, stride=1, padding=True, batch_normalize=True, activation='leaky'):\n",
    "    \n",
    "    if batch_normalize:\n",
    "        bias = False\n",
    "    else:\n",
    "        bias = True\n",
    "        \n",
    "    if padding:\n",
    "        padding = (kernel_size - 1) // 2\n",
    "    else:\n",
    "        padding = 0\n",
    "\n",
    "    model = NamedLayer('convolutional', bn=batch_normalize)\n",
    "    conv_layer = nn.Conv1d(in_channels, out_channels, kernel_size, stride, padding, bias=bias)\n",
    "    model.add_module(f'conv_{index}: ', conv_layer)\n",
    "    if batch_normalize:\n",
    "        bn_layer = nn.BatchNorm1d(out_channels)\n",
    "        model.add_module(f'bn_{index}', bn_layer)\n",
    "        \n",
    "    if activation == 'leaky':\n",
    "        activation_layer = nn.LeakyReLU(0.1, inplace=True)\n",
    "        model.add_module(f'activation_{index}', activation_layer)\n",
    "    elif activation == 'relu':\n",
    "        activation_layer = nn.ReLU(inplace=True)\n",
    "        model.add_module(f'activation_{index}', activation_layer)\n",
    "    return model"
   ]
  },
  {
   "cell_type": "code",
   "execution_count": 11,
   "metadata": {},
   "outputs": [],
   "source": [
    "def get_block(index, in_channels, out_channels, kernel_size, num=2, batch_normalize=True):\n",
    "    \"\"\"\n",
    "    \"\"\"\n",
    "    model = NamedLayer(f'convolutional_{index}', bn=batch_normalize)\n",
    "    for i in range(num):\n",
    "        if i == 0:\n",
    "            channels = in_channels\n",
    "        conv = get_convolutional_layer(index, channels, out_channels, kernel_size, stride=1)\n",
    "        channels = out_channels\n",
    "        model.add_module(f'conv_{i}', conv)\n",
    "    \n",
    "    model.add_module(f'downsample_{index}', nn.Conv1d(channels, out_channels, kernel_size, stride=2, padding=1))\n",
    "    return model"
   ]
  },
  {
   "cell_type": "code",
   "execution_count": 12,
   "metadata": {},
   "outputs": [],
   "source": [
    "def get_linear_layer(in_channels, out_channels, num=2):\n",
    "    \"\"\"\n",
    "    \"\"\"\n",
    "    model = NamedLayer('linear')\n",
    "    for i in range(num):\n",
    "        if i == 0:\n",
    "            channels = in_channels\n",
    "        linear_layer = nn.Linear(channels, out_channels)\n",
    "        channels = out_channels\n",
    "        model.add_module(f'linear_{i}', linear_layer)\n",
    "        activation_layer = nn.ReLU(inplace=True)\n",
    "        model.add_module(f'activation_{i}', activation_layer)\n",
    "    return model"
   ]
  },
  {
   "cell_type": "code",
   "execution_count": 13,
   "metadata": {},
   "outputs": [],
   "source": [
    "def get_softmax_layer(in_channels, num_class):\n",
    "    \"\"\"\n",
    "    \"\"\"\n",
    "    model = NamedLayer('softmax')\n",
    "    linear_layer = nn.Linear(in_channels, num_class)\n",
    "    model.add_module(f'linear', linear_layer)\n",
    "    softmax_layer = nn.Softmax(dim=1)\n",
    "    model.add_module(f'softmax', softmax_layer)\n",
    "    return model"
   ]
  },
  {
   "cell_type": "code",
   "execution_count": 14,
   "metadata": {},
   "outputs": [],
   "source": [
    "def get_model():\n",
    "    model = nn.Sequential()\n",
    "    layer_0 = get_block(0, in_channels=1, out_channels=16, kernel_size=3)\n",
    "    model.add_module('layer_0', layer_0)\n",
    "    layer_1 = get_block(1, in_channels=16, out_channels=32, kernel_size=3)\n",
    "    model.add_module('layer_1', layer_1)\n",
    "    layer_2 = get_block(2, in_channels=32, out_channels=64, kernel_size=3)\n",
    "    model.add_module('layer_2', layer_2)\n",
    "    layer_3 = get_block(3, in_channels=64, out_channels=128, kernel_size=3)\n",
    "    model.add_module('layer_3', layer_3)\n",
    "    return model"
   ]
  },
  {
   "cell_type": "code",
   "execution_count": 15,
   "metadata": {},
   "outputs": [],
   "source": [
    "class AudioNet(nn.Module):\n",
    "    \"\"\"\n",
    "    \"\"\"\n",
    "\n",
    "    def __init__(self,\n",
    "                 input_length,\n",
    "                 name_tuple,\n",
    "                 use_cuda=torch.cuda.is_available()):\n",
    "        super().__init__()\n",
    "        self.input_length = input_length\n",
    "        self.name_tuple = name_tuple\n",
    "        self.num_class = len(name_tuple)\n",
    "        self.use_cuda=use_cuda\n",
    "        self._init()\n",
    "        \n",
    "    def _init(self):\n",
    "        conv_block_0 = get_block(0, in_channels=1, out_channels=16, kernel_size=3)\n",
    "        self.add_module('conv_block_0',conv_block_0)\n",
    "        conv_block_1 = get_block(1, in_channels=16, out_channels=32, kernel_size=3)\n",
    "        self.add_module('conv_block_1', conv_block_1)\n",
    "        conv_block_2 = get_block(2, in_channels=32, out_channels=64, kernel_size=3)\n",
    "        self.add_module('conv_block_2', conv_block_2)\n",
    "        conv_block_3 = get_block(3, in_channels=64, out_channels=64, kernel_size=3)\n",
    "        self.add_module('conv_block_3', conv_block_3)\n",
    "        conv_block_4 = get_block(4, in_channels=64, out_channels=32, kernel_size=3)\n",
    "        self.add_module('conv_block_4', conv_block_4)\n",
    "        conv_block_5 = get_block(5, in_channels=32, out_channels=16, kernel_size=3)\n",
    "        self.add_module('conv_block_5', conv_block_5)\n",
    "        linear_block = get_linear_layer(22064, 1024)\n",
    "        self.add_module('linear_block',linear_block)\n",
    "        softmax_block = get_softmax_layer(1024, self.num_class)\n",
    "        self.add_module('softmax_block', softmax_block)\n",
    "        \n",
    "    def forward(self, x):\n",
    "        \"\"\"\n",
    "        \"\"\"\n",
    "        x = torch.unsqueeze(x, dim=1)\n",
    "        for module in self.children():\n",
    "            utils.logger.info(module.name)\n",
    "            utils.logger.info(x.shape)\n",
    "            if module.name == 'linear':\n",
    "                b, c, l = x.shape\n",
    "                size = c * l\n",
    "                x = x.reshape((b, size, ))\n",
    "                utils.logger.info(x.shape)\n",
    "            x = module(x)\n",
    "        return x\n",
    "    \n",
    "    def loss(self, prediction, target):\n",
    "        \"\"\"\n",
    "        \"\"\"\n",
    "        loss = nn.CrossEntropyLoss()\n",
    "        return loss(prediction, target)"
   ]
  },
  {
   "cell_type": "code",
   "execution_count": 16,
   "metadata": {},
   "outputs": [],
   "source": [
    "root = Path('/data/FSDKaggle2018/FSDKaggle2018.audio_train')\n",
    "train_fname = Path('/data/FSDKaggle2018/FSDKaggle2018.meta/train_post_competition.csv')"
   ]
  },
  {
   "cell_type": "code",
   "execution_count": 17,
   "metadata": {},
   "outputs": [],
   "source": [
    "labels, label_dct = utils.get_dataset_meta(train_fname)"
   ]
  },
  {
   "cell_type": "code",
   "execution_count": 18,
   "metadata": {},
   "outputs": [
    {
     "name": "stderr",
     "output_type": "stream",
     "text": [
      "2019-06-20 18:41:03.344 | INFO     | utils:get_test_data:61 - Reading from /data/FSDKaggle2018/FSDKaggle2018.meta/train_validate.csv\n"
     ]
    }
   ],
   "source": [
    "full_df = utils.get_test_data(train_fname)"
   ]
  },
  {
   "cell_type": "code",
   "execution_count": 19,
   "metadata": {},
   "outputs": [],
   "source": [
    "train_df = full_df[full_df.test == False]\n",
    "train_df.index = range(len(train_df))"
   ]
  },
  {
   "cell_type": "code",
   "execution_count": 20,
   "metadata": {},
   "outputs": [],
   "source": [
    "test_df = full_df[full_df.test == True]\n",
    "test_df.index = range(len(test_df))"
   ]
  },
  {
   "cell_type": "code",
   "execution_count": 21,
   "metadata": {},
   "outputs": [],
   "source": [
    "train_dataset = utils.Dataset(root, train_df, input_length=2 * 44100, label_dct=label_dct)"
   ]
  },
  {
   "cell_type": "code",
   "execution_count": 22,
   "metadata": {},
   "outputs": [],
   "source": [
    "test_dataset =  utils.Dataset(root, test_df, input_length=2 * 44100, label_dct=label_dct)"
   ]
  },
  {
   "cell_type": "code",
   "execution_count": 23,
   "metadata": {},
   "outputs": [],
   "source": [
    "net = AudioNet(input_length=train_dataset.input_length, name_tuple=labels)"
   ]
  },
  {
   "cell_type": "code",
   "execution_count": 24,
   "metadata": {},
   "outputs": [],
   "source": [
    "train_data_iter = data.DataLoader(train_dataset, batch_size=1)"
   ]
  },
  {
   "cell_type": "code",
   "execution_count": 25,
   "metadata": {},
   "outputs": [],
   "source": [
    "use_cuda = net.use_cuda"
   ]
  },
  {
   "cell_type": "code",
   "execution_count": 26,
   "metadata": {},
   "outputs": [],
   "source": [
    "if use_cuda:\n",
    "    net = net.cuda()"
   ]
  },
  {
   "cell_type": "code",
   "execution_count": 27,
   "metadata": {},
   "outputs": [],
   "source": [
    "for dt, label in train_data_iter:\n",
    "    if use_cuda:\n",
    "        dt = dt.cuda()\n",
    "        label = label.cuda()\n",
    "    break"
   ]
  },
  {
   "cell_type": "code",
   "execution_count": 28,
   "metadata": {},
   "outputs": [
    {
     "data": {
      "text/plain": [
       "torch.Size([1, 88200])"
      ]
     },
     "execution_count": 28,
     "metadata": {},
     "output_type": "execute_result"
    }
   ],
   "source": [
    "dt.shape"
   ]
  },
  {
   "cell_type": "code",
   "execution_count": 29,
   "metadata": {},
   "outputs": [
    {
     "data": {
      "text/plain": [
       "22064"
      ]
     },
     "execution_count": 29,
     "metadata": {},
     "output_type": "execute_result"
    }
   ],
   "source": [
    "1379 * 16"
   ]
  },
  {
   "cell_type": "code",
   "execution_count": 30,
   "metadata": {},
   "outputs": [
    {
     "name": "stderr",
     "output_type": "stream",
     "text": [
      "2019-06-20 18:41:10.277 | INFO     | __main__:forward:39 - convolutional_0\n",
      "2019-06-20 18:41:10.278 | INFO     | __main__:forward:40 - torch.Size([1, 1, 88200])\n",
      "2019-06-20 18:41:10.287 | INFO     | __main__:forward:39 - convolutional_1\n",
      "2019-06-20 18:41:10.288 | INFO     | __main__:forward:40 - torch.Size([1, 16, 44100])\n",
      "2019-06-20 18:41:10.293 | INFO     | __main__:forward:39 - convolutional_2\n",
      "2019-06-20 18:41:10.294 | INFO     | __main__:forward:40 - torch.Size([1, 32, 22050])\n",
      "2019-06-20 18:41:10.298 | INFO     | __main__:forward:39 - convolutional_3\n",
      "2019-06-20 18:41:10.299 | INFO     | __main__:forward:40 - torch.Size([1, 64, 11025])\n",
      "2019-06-20 18:41:10.303 | INFO     | __main__:forward:39 - convolutional_4\n",
      "2019-06-20 18:41:10.304 | INFO     | __main__:forward:40 - torch.Size([1, 64, 5513])\n",
      "2019-06-20 18:41:10.307 | INFO     | __main__:forward:39 - convolutional_5\n",
      "2019-06-20 18:41:10.308 | INFO     | __main__:forward:40 - torch.Size([1, 32, 2757])\n",
      "2019-06-20 18:41:10.310 | INFO     | __main__:forward:39 - linear\n",
      "2019-06-20 18:41:10.311 | INFO     | __main__:forward:40 - torch.Size([1, 16, 1379])\n",
      "2019-06-20 18:41:10.312 | INFO     | __main__:forward:45 - torch.Size([1, 22064])\n",
      "2019-06-20 18:41:10.313 | INFO     | __main__:forward:39 - softmax\n",
      "2019-06-20 18:41:10.314 | INFO     | __main__:forward:40 - torch.Size([1, 1024])\n"
     ]
    }
   ],
   "source": [
    "res = net(dt)"
   ]
  },
  {
   "cell_type": "code",
   "execution_count": 31,
   "metadata": {},
   "outputs": [
    {
     "data": {
      "text/plain": [
       "torch.Size([1, 41])"
      ]
     },
     "execution_count": 31,
     "metadata": {},
     "output_type": "execute_result"
    }
   ],
   "source": [
    "res.shape"
   ]
  },
  {
   "cell_type": "code",
   "execution_count": null,
   "metadata": {},
   "outputs": [],
   "source": []
  }
 ],
 "metadata": {
  "kernelspec": {
   "display_name": "Python [conda env:experiment]",
   "language": "python",
   "name": "conda-env-experiment-py"
  },
  "language_info": {
   "codemirror_mode": {
    "name": "ipython",
    "version": 3
   },
   "file_extension": ".py",
   "mimetype": "text/x-python",
   "name": "python",
   "nbconvert_exporter": "python",
   "pygments_lexer": "ipython3",
   "version": "3.7.3"
  }
 },
 "nbformat": 4,
 "nbformat_minor": 2
}
