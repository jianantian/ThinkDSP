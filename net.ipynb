{
 "cells": [
  {
   "cell_type": "code",
   "execution_count": 1,
   "metadata": {},
   "outputs": [],
   "source": [
    "from pathlib import Path\n",
    "from scipy.io import wavfile"
   ]
  },
  {
   "cell_type": "code",
   "execution_count": 2,
   "metadata": {},
   "outputs": [],
   "source": [
    "import numpy as np"
   ]
  },
  {
   "cell_type": "code",
   "execution_count": 3,
   "metadata": {},
   "outputs": [],
   "source": [
    "import torch"
   ]
  },
  {
   "cell_type": "code",
   "execution_count": 36,
   "metadata": {},
   "outputs": [],
   "source": [
    "from torch import nn, optim"
   ]
  },
  {
   "cell_type": "code",
   "execution_count": 5,
   "metadata": {},
   "outputs": [],
   "source": [
    "from torch.utils import data"
   ]
  },
  {
   "cell_type": "code",
   "execution_count": 6,
   "metadata": {},
   "outputs": [],
   "source": [
    "from  sklearn.model_selection import train_test_split\n",
    "from sklearn.metrics import accuracy_score, f1_score"
   ]
  },
  {
   "cell_type": "code",
   "execution_count": 7,
   "metadata": {},
   "outputs": [],
   "source": [
    "from collections import OrderedDict"
   ]
  },
  {
   "cell_type": "code",
   "execution_count": 8,
   "metadata": {},
   "outputs": [],
   "source": [
    "import utils"
   ]
  },
  {
   "cell_type": "code",
   "execution_count": 9,
   "metadata": {},
   "outputs": [],
   "source": [
    "import visualize"
   ]
  },
  {
   "cell_type": "code",
   "execution_count": 10,
   "metadata": {},
   "outputs": [],
   "source": [
    "import json"
   ]
  },
  {
   "cell_type": "code",
   "execution_count": 11,
   "metadata": {},
   "outputs": [],
   "source": [
    "import time\n",
    "import sys"
   ]
  },
  {
   "cell_type": "code",
   "execution_count": 12,
   "metadata": {},
   "outputs": [],
   "source": [
    "from loguru import logger"
   ]
  },
  {
   "cell_type": "code",
   "execution_count": 13,
   "metadata": {},
   "outputs": [
    {
     "data": {
      "text/plain": [
       "1"
      ]
     },
     "execution_count": 13,
     "metadata": {},
     "output_type": "execute_result"
    }
   ],
   "source": [
    "logger.add(sys.stdout, level='INFO', colorize=True, format=\"<green>{time}</green> <level>{message}</level>\")"
   ]
  },
  {
   "cell_type": "code",
   "execution_count": 14,
   "metadata": {},
   "outputs": [],
   "source": [
    "class Config(object):\n",
    "    \"\"\"\n",
    "\n",
    "    \"\"\"\n",
    "    __slots__ = ('root', 'train_fname', 'epoch', 'batch_size', 'input_length', \n",
    "                 'save_interval', 'val_interval', 'log_interval', 'lr', 'lr_decay', \n",
    "                 'lr_decay_period', 'lr_decay_epoch', 'wd')\n",
    "\n",
    "    def __init__(self, dct):\n",
    "        \"\"\"\n",
    "\n",
    "        :param dct:\n",
    "        \"\"\"\n",
    "        for k in self.__slots__:\n",
    "            v = dct.get(k, None)\n",
    "            if k in {\"train_root\", \"val_root\", \"trainval_root\"}:\n",
    "                v = Path(v)\n",
    "            setattr(self, k, v)"
   ]
  },
  {
   "cell_type": "code",
   "execution_count": 15,
   "metadata": {},
   "outputs": [],
   "source": [
    "def parse_config(config_path):\n",
    "    \"\"\"\n",
    "\n",
    "    :param config_path:\n",
    "    :return:\n",
    "    \"\"\"\n",
    "    with open(config_path, 'r') as fr:\n",
    "        dct = json.load(fr)\n",
    "    return Config(dct)"
   ]
  },
  {
   "cell_type": "code",
   "execution_count": 16,
   "metadata": {},
   "outputs": [],
   "source": [
    "class NamedLayer(nn.Sequential):\n",
    "    def __init__(self, name, start=None, end=None, bn=False):\n",
    "        super().__init__()\n",
    "        self.name = name\n",
    "        self.start = start\n",
    "        self.end = end\n",
    "        self.bn = bn"
   ]
  },
  {
   "cell_type": "code",
   "execution_count": 17,
   "metadata": {},
   "outputs": [],
   "source": [
    "def get_convolutional_layer(index, in_channels, out_channels, kernel_size=3, stride=1, padding=True, batch_normalize=True, activation='leaky'):\n",
    "    \n",
    "    if batch_normalize:\n",
    "        bias = False\n",
    "    else:\n",
    "        bias = True\n",
    "        \n",
    "    if padding:\n",
    "        padding = (kernel_size - 1) // 2\n",
    "    else:\n",
    "        padding = 0\n",
    "\n",
    "    model = NamedLayer('convolutional', bn=batch_normalize)\n",
    "    conv_layer = nn.Conv1d(in_channels, out_channels, kernel_size, stride, padding, bias=bias)\n",
    "    model.add_module(f'conv_{index}: ', conv_layer)\n",
    "    if batch_normalize:\n",
    "        bn_layer = nn.BatchNorm1d(out_channels)\n",
    "        model.add_module(f'bn_{index}', bn_layer)\n",
    "        \n",
    "    if activation == 'leaky':\n",
    "        activation_layer = nn.LeakyReLU(0.1, inplace=True)\n",
    "        model.add_module(f'activation_{index}', activation_layer)\n",
    "    elif activation == 'relu':\n",
    "        activation_layer = nn.ReLU(inplace=True)\n",
    "        model.add_module(f'activation_{index}', activation_layer)\n",
    "    return model"
   ]
  },
  {
   "cell_type": "code",
   "execution_count": 18,
   "metadata": {},
   "outputs": [],
   "source": [
    "def get_block(index, in_channels, out_channels, kernel_size, num=2, batch_normalize=True):\n",
    "    \"\"\"\n",
    "    \"\"\"\n",
    "    model = NamedLayer(f'convolutional_{index}', bn=batch_normalize)\n",
    "    for i in range(num):\n",
    "        if i == 0:\n",
    "            channels = in_channels\n",
    "        conv = get_convolutional_layer(index, channels, out_channels, kernel_size, stride=1)\n",
    "        channels = out_channels\n",
    "        model.add_module(f'conv_{i}', conv)\n",
    "    \n",
    "    model.add_module(f'downsample_{index}', nn.Conv1d(channels, out_channels, kernel_size, stride=2, padding=1))\n",
    "    return model"
   ]
  },
  {
   "cell_type": "code",
   "execution_count": 19,
   "metadata": {},
   "outputs": [],
   "source": [
    "def get_linear_layer(in_channels, out_channels, num=2):\n",
    "    \"\"\"\n",
    "    \"\"\"\n",
    "    model = NamedLayer('linear')\n",
    "    for i in range(num):\n",
    "        if i == 0:\n",
    "            channels = in_channels\n",
    "        linear_layer = nn.Linear(channels, out_channels)\n",
    "        channels = out_channels\n",
    "        model.add_module(f'linear_{i}', linear_layer)\n",
    "        activation_layer = nn.ReLU(inplace=True)\n",
    "        model.add_module(f'activation_{i}', activation_layer)\n",
    "    return model"
   ]
  },
  {
   "cell_type": "code",
   "execution_count": 20,
   "metadata": {},
   "outputs": [],
   "source": [
    "def get_softmax_layer(in_channels, num_class):\n",
    "    \"\"\"\n",
    "    \"\"\"\n",
    "    model = NamedLayer('softmax')\n",
    "    linear_layer = nn.Linear(in_channels, num_class)\n",
    "    model.add_module(f'linear', linear_layer)\n",
    "    softmax_layer = nn.Softmax(dim=1)\n",
    "    model.add_module(f'softmax', softmax_layer)\n",
    "    return model"
   ]
  },
  {
   "cell_type": "code",
   "execution_count": 21,
   "metadata": {},
   "outputs": [],
   "source": [
    "def get_model():\n",
    "    model = nn.Sequential()\n",
    "    layer_0 = get_block(0, in_channels=1, out_channels=16, kernel_size=3)\n",
    "    model.add_module('layer_0', layer_0)\n",
    "    layer_1 = get_block(1, in_channels=16, out_channels=32, kernel_size=3)\n",
    "    model.add_module('layer_1', layer_1)\n",
    "    layer_2 = get_block(2, in_channels=32, out_channels=64, kernel_size=3)\n",
    "    model.add_module('layer_2', layer_2)\n",
    "    layer_3 = get_block(3, in_channels=64, out_channels=128, kernel_size=3)\n",
    "    model.add_module('layer_3', layer_3)\n",
    "    return model"
   ]
  },
  {
   "cell_type": "code",
   "execution_count": 22,
   "metadata": {},
   "outputs": [],
   "source": [
    "class AudioNet(nn.Module):\n",
    "    \"\"\"\n",
    "    \"\"\"\n",
    "\n",
    "    def __init__(self,\n",
    "                 input_length,\n",
    "                 name_tuple,\n",
    "                 use_cuda=torch.cuda.is_available()):\n",
    "        super().__init__()\n",
    "        self.input_length = input_length\n",
    "        self.name_tuple = name_tuple\n",
    "        self.num_class = len(name_tuple)\n",
    "        self.use_cuda=use_cuda\n",
    "        self._init()\n",
    "        \n",
    "    def _init(self):\n",
    "        conv_block_0 = get_block(0, in_channels=1, out_channels=16, kernel_size=3)\n",
    "        self.add_module('conv_block_0',conv_block_0)\n",
    "        conv_block_1 = get_block(1, in_channels=16, out_channels=32, kernel_size=3)\n",
    "        self.add_module('conv_block_1', conv_block_1)\n",
    "        conv_block_2 = get_block(2, in_channels=32, out_channels=64, kernel_size=3)\n",
    "        self.add_module('conv_block_2', conv_block_2)\n",
    "        conv_block_3 = get_block(3, in_channels=64, out_channels=64, kernel_size=3)\n",
    "        self.add_module('conv_block_3', conv_block_3)\n",
    "        conv_block_4 = get_block(4, in_channels=64, out_channels=32, kernel_size=3)\n",
    "        self.add_module('conv_block_4', conv_block_4)\n",
    "        conv_block_5 = get_block(5, in_channels=32, out_channels=16, kernel_size=3)\n",
    "        self.add_module('conv_block_5', conv_block_5)\n",
    "        linear_block = get_linear_layer(22064, 1024)\n",
    "        self.add_module('linear_block',linear_block)\n",
    "        softmax_block = get_softmax_layer(1024, self.num_class)\n",
    "        self.add_module('softmax_block', softmax_block)\n",
    "        \n",
    "    def forward(self, x):\n",
    "        \"\"\"\n",
    "        \"\"\"\n",
    "        x = torch.unsqueeze(x, dim=1)\n",
    "        for module in self.children():\n",
    "            if module.name == 'linear':\n",
    "                b, c, l = x.shape\n",
    "                size = c * l\n",
    "                x = x.reshape((b, size, ))\n",
    "            x = module(x)\n",
    "        return x\n",
    "    \n",
    "    def loss(self, prediction, target):\n",
    "        \"\"\"\n",
    "        \"\"\"\n",
    "        loss = nn.CrossEntropyLoss()\n",
    "        return loss(prediction, target)"
   ]
  },
  {
   "cell_type": "code",
   "execution_count": 23,
   "metadata": {},
   "outputs": [],
   "source": [
    "root = Path('/data/FSDKaggle2018/FSDKaggle2018.audio_train')\n",
    "train_fname = Path('/data/FSDKaggle2018/FSDKaggle2018.meta/train_post_competition.csv')"
   ]
  },
  {
   "cell_type": "code",
   "execution_count": 24,
   "metadata": {},
   "outputs": [],
   "source": [
    "labels, label_dct = utils.get_dataset_meta(train_fname)"
   ]
  },
  {
   "cell_type": "code",
   "execution_count": 25,
   "metadata": {},
   "outputs": [
    {
     "name": "stderr",
     "output_type": "stream",
     "text": [
      "2019-06-21 13:59:06.704 | INFO     | utils:get_test_data:59 - Reading from /data/FSDKaggle2018/FSDKaggle2018.meta/train_validate.csv\n"
     ]
    },
    {
     "name": "stdout",
     "output_type": "stream",
     "text": [
      "\u001b[32m2019-06-21T13:59:06.704983+0800\u001b[0m \u001b[1mReading from /data/FSDKaggle2018/FSDKaggle2018.meta/train_validate.csv\u001b[0m\n"
     ]
    }
   ],
   "source": [
    "full_df = utils.get_test_data(train_fname)"
   ]
  },
  {
   "cell_type": "code",
   "execution_count": 26,
   "metadata": {},
   "outputs": [],
   "source": [
    "train_df = full_df[full_df.test == False]\n",
    "train_df.index = range(len(train_df))"
   ]
  },
  {
   "cell_type": "code",
   "execution_count": 27,
   "metadata": {},
   "outputs": [],
   "source": [
    "test_df = full_df[full_df.test == True]\n",
    "test_df.index = range(len(test_df))"
   ]
  },
  {
   "cell_type": "code",
   "execution_count": 28,
   "metadata": {},
   "outputs": [],
   "source": [
    "config = parse_config('config.json')"
   ]
  },
  {
   "cell_type": "code",
   "execution_count": 42,
   "metadata": {},
   "outputs": [],
   "source": [
    "input_length = config.input_length"
   ]
  },
  {
   "cell_type": "code",
   "execution_count": 43,
   "metadata": {},
   "outputs": [],
   "source": [
    "net = AudioNet(input_length=input_length, name_tuple=labels)"
   ]
  },
  {
   "cell_type": "code",
   "execution_count": 44,
   "metadata": {},
   "outputs": [],
   "source": [
    "num_class = len(labels)"
   ]
  },
  {
   "cell_type": "code",
   "execution_count": 45,
   "metadata": {},
   "outputs": [],
   "source": [
    "learning_rate = config.lr\n",
    "weight_decay = config.wd\n",
    "\n",
    "val_interval = config.val_interval\n",
    "save_interval = config.save_interval\n",
    "log_interval = config.log_interval\n",
    "\n",
    "lr_decay_epoch = set(config.lr_decay_epoch)\n",
    "lr_decay = config.lr_decay"
   ]
  },
  {
   "cell_type": "code",
   "execution_count": 46,
   "metadata": {},
   "outputs": [],
   "source": [
    "epoch = config.epoch\n",
    "batch_size = config.batch_size"
   ]
  },
  {
   "cell_type": "code",
   "execution_count": 47,
   "metadata": {},
   "outputs": [],
   "source": [
    "use_cuda = net.use_cuda\n",
    "if use_cuda:\n",
    "    net = net.cuda()"
   ]
  },
  {
   "cell_type": "code",
   "execution_count": 48,
   "metadata": {},
   "outputs": [],
   "source": [
    "optimizer = optim.SGD(net.parameters(), lr=0.01, momentum=0.9)"
   ]
  },
  {
   "cell_type": "code",
   "execution_count": 49,
   "metadata": {},
   "outputs": [
    {
     "name": "stderr",
     "output_type": "stream",
     "text": [
      "WARNING:root:Setting up a new session...\n"
     ]
    }
   ],
   "source": [
    "visualizer = visualize.Visualizer('AudioNet')"
   ]
  },
  {
   "cell_type": "code",
   "execution_count": 50,
   "metadata": {},
   "outputs": [],
   "source": [
    "def validate(net,\n",
    "             val_data,\n",
    "             batch_size,\n",
    "             epoch_num):\n",
    "    net.eval()\n",
    "\n",
    "    num_class = val_data.num_class\n",
    "\n",
    "    val_data_iter = data.DataLoader(val_data, batch_size=batch_size, shuffle=False)\n",
    "    use_cuda = net.use_cuda\n",
    "\n",
    "    total_num = 0\n",
    "    true_detect_num = 0\n",
    "    with torch.no_grad():\n",
    "        for i, (val_data, label) in enumerate(val_data_iter):\n",
    "            if use_cuda:\n",
    "                val_data = val_data.cuda()\n",
    "                label = label.cuda()\n",
    "            prediction = net(val_data)\n",
    "            _, prediction_label = torch.max(prediction, dim=1)\n",
    "            \n",
    "            total_num += label.shape[0]\n",
    "            true_detect_num += (prediction_label == label).sum().item()\n",
    "            \n",
    "    val_mean_precision = true_detect_num / total_num\n",
    "\n",
    "    validation_res_dct = {'precision': val_mean_precision}\n",
    "    return validation_res_dct"
   ]
  },
  {
   "cell_type": "code",
   "execution_count": null,
   "metadata": {},
   "outputs": [
    {
     "name": "stderr",
     "output_type": "stream",
     "text": [
      "2019-06-21 14:07:16.279 | INFO     | __main__:<module>:24 - epoch num: 0, loss: 497.5976984500885, precision: 0.053738317757009345, time: 100.32557511329651\n"
     ]
    },
    {
     "name": "stdout",
     "output_type": "stream",
     "text": [
      "\u001b[32m2019-06-21T14:07:16.279680+0800\u001b[0m \u001b[1mepoch num: 0, loss: 497.5976984500885, precision: 0.053738317757009345, time: 100.32557511329651\u001b[0m\n"
     ]
    },
    {
     "name": "stderr",
     "output_type": "stream",
     "text": [
      "2019-06-21 14:08:57.472 | INFO     | __main__:<module>:24 - epoch num: 1, loss: 497.34141659736633, precision: 0.04848130841121495, time: 101.17948293685913\n"
     ]
    },
    {
     "name": "stdout",
     "output_type": "stream",
     "text": [
      "\u001b[32m2019-06-21T14:08:57.472002+0800\u001b[0m \u001b[1mepoch num: 1, loss: 497.34141659736633, precision: 0.04848130841121495, time: 101.17948293685913\u001b[0m\n"
     ]
    },
    {
     "name": "stderr",
     "output_type": "stream",
     "text": [
      "2019-06-21 14:10:38.602 | INFO     | __main__:<module>:24 - epoch num: 2, loss: 493.8310194015503, precision: 0.058878504672897194, time: 101.11765503883362\n"
     ]
    },
    {
     "name": "stdout",
     "output_type": "stream",
     "text": [
      "\u001b[32m2019-06-21T14:10:38.602361+0800\u001b[0m \u001b[1mepoch num: 2, loss: 493.8310194015503, precision: 0.058878504672897194, time: 101.11765503883362\u001b[0m\n"
     ]
    },
    {
     "name": "stderr",
     "output_type": "stream",
     "text": [
      "2019-06-21 14:12:19.795 | INFO     | __main__:<module>:24 - epoch num: 3, loss: 492.5062665939331, precision: 0.07651869158878505, time: 101.1807975769043\n"
     ]
    },
    {
     "name": "stdout",
     "output_type": "stream",
     "text": [
      "\u001b[32m2019-06-21T14:12:19.795585+0800\u001b[0m \u001b[1mepoch num: 3, loss: 492.5062665939331, precision: 0.07651869158878505, time: 101.1807975769043\u001b[0m\n"
     ]
    },
    {
     "name": "stderr",
     "output_type": "stream",
     "text": [
      "2019-06-21 14:14:00.951 | INFO     | __main__:<module>:24 - epoch num: 4, loss: 491.9674143791199, precision: 0.08130841121495327, time: 101.14267301559448\n"
     ]
    },
    {
     "name": "stdout",
     "output_type": "stream",
     "text": [
      "\u001b[32m2019-06-21T14:14:00.951174+0800\u001b[0m \u001b[1mepoch num: 4, loss: 491.9674143791199, precision: 0.08130841121495327, time: 101.14267301559448\u001b[0m\n"
     ]
    },
    {
     "name": "stderr",
     "output_type": "stream",
     "text": [
      "2019-06-21 14:15:42.155 | INFO     | __main__:<module>:24 - epoch num: 5, loss: 491.3060681819916, precision: 0.07137850467289719, time: 101.19177293777466\n"
     ]
    },
    {
     "name": "stdout",
     "output_type": "stream",
     "text": [
      "\u001b[32m2019-06-21T14:15:42.155751+0800\u001b[0m \u001b[1mepoch num: 5, loss: 491.3060681819916, precision: 0.07137850467289719, time: 101.19177293777466\u001b[0m\n"
     ]
    },
    {
     "name": "stderr",
     "output_type": "stream",
     "text": [
      "2019-06-21 14:17:23.310 | INFO     | __main__:<module>:24 - epoch num: 6, loss: 489.1843647956848, precision: 0.08738317757009346, time: 101.14164304733276\n"
     ]
    },
    {
     "name": "stdout",
     "output_type": "stream",
     "text": [
      "\u001b[32m2019-06-21T14:17:23.310134+0800\u001b[0m \u001b[1mepoch num: 6, loss: 489.1843647956848, precision: 0.08738317757009346, time: 101.14164304733276\u001b[0m\n"
     ]
    }
   ],
   "source": [
    "for e in range(epoch):\n",
    "    need_save = False\n",
    "    start_time = time.time()\n",
    "    net.train()\n",
    "    train_dataset = utils.Dataset(root, train_df, input_length, num_class=num_class, label_dct=label_dct)\n",
    "    test_dataset =  utils.Dataset(root, test_df, input_length, num_class=num_class, label_dct=label_dct)\n",
    "    \n",
    "    train_data_iter = data.DataLoader(train_dataset, batch_size=batch_size)\n",
    "    running_loss = 0.0\n",
    "    for i, (train_data, label) in enumerate(train_data_iter):\n",
    "        if use_cuda:\n",
    "            train_data = train_data.cuda()\n",
    "            label = label.cuda()\n",
    "        optimizer.zero_grad()\n",
    "        prediction = net(train_data)\n",
    "        loss = net.loss(prediction, label)\n",
    "        loss.backward()\n",
    "        optimizer.step()\n",
    "        \n",
    "        running_loss += loss.item()\n",
    "    valid_train_res = validate(net, train_dataset, batch_size, epoch)\n",
    "    loss_dct = {'loss': running_loss}\n",
    "    precision = valid_train_res['precision']\n",
    "    logger.info(f'epoch num: {e}, loss: {running_loss}, precision: {precision}, time: {time.time() - start_time}')\n",
    "    visualizer.plot(loss_dct)\n",
    "    visualizer.plot(valid_train_res)"
   ]
  },
  {
   "cell_type": "code",
   "execution_count": null,
   "metadata": {},
   "outputs": [],
   "source": []
  }
 ],
 "metadata": {
  "kernelspec": {
   "display_name": "Python [conda env:experiment]",
   "language": "python",
   "name": "conda-env-experiment-py"
  },
  "language_info": {
   "codemirror_mode": {
    "name": "ipython",
    "version": 3
   },
   "file_extension": ".py",
   "mimetype": "text/x-python",
   "name": "python",
   "nbconvert_exporter": "python",
   "pygments_lexer": "ipython3",
   "version": "3.7.3"
  }
 },
 "nbformat": 4,
 "nbformat_minor": 2
}
