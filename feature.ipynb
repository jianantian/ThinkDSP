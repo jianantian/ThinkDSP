{
 "cells": [
  {
   "cell_type": "code",
   "execution_count": 1,
   "metadata": {},
   "outputs": [],
   "source": [
    "from torchvision.models import vgg16"
   ]
  },
  {
   "cell_type": "code",
   "execution_count": 2,
   "metadata": {},
   "outputs": [],
   "source": [
    "from PIL import Image\n",
    "from torchvision.transforms import ToTensor"
   ]
  },
  {
   "cell_type": "code",
   "execution_count": 3,
   "metadata": {},
   "outputs": [],
   "source": [
    "import torch\n",
    "from torch import nn"
   ]
  },
  {
   "cell_type": "code",
   "execution_count": 4,
   "metadata": {},
   "outputs": [],
   "source": [
    "from pathlib import Path"
   ]
  },
  {
   "cell_type": "code",
   "execution_count": 5,
   "metadata": {},
   "outputs": [],
   "source": [
    "import os"
   ]
  },
  {
   "cell_type": "code",
   "execution_count": 6,
   "metadata": {},
   "outputs": [],
   "source": [
    "import faiss"
   ]
  },
  {
   "cell_type": "code",
   "execution_count": 7,
   "metadata": {},
   "outputs": [],
   "source": [
    "import numpy as np"
   ]
  },
  {
   "cell_type": "code",
   "execution_count": 8,
   "metadata": {},
   "outputs": [],
   "source": [
    "import PIL"
   ]
  },
  {
   "cell_type": "code",
   "execution_count": 9,
   "metadata": {},
   "outputs": [],
   "source": [
    "import sys"
   ]
  },
  {
   "cell_type": "code",
   "execution_count": 10,
   "metadata": {},
   "outputs": [],
   "source": [
    "import time"
   ]
  },
  {
   "cell_type": "code",
   "execution_count": 11,
   "metadata": {},
   "outputs": [],
   "source": [
    "from loguru import logger"
   ]
  },
  {
   "cell_type": "code",
   "execution_count": 12,
   "metadata": {},
   "outputs": [],
   "source": [
    "import h5py"
   ]
  },
  {
   "cell_type": "code",
   "execution_count": 13,
   "metadata": {},
   "outputs": [],
   "source": [
    "model =vgg16(pretrained=True)"
   ]
  },
  {
   "cell_type": "code",
   "execution_count": 14,
   "metadata": {},
   "outputs": [],
   "source": [
    "feature_map = nn.Sequential(model.features, model.avgpool)"
   ]
  },
  {
   "cell_type": "code",
   "execution_count": 15,
   "metadata": {},
   "outputs": [],
   "source": [
    "dirname = \"/data/DIV2K/DIV2K_valid_HR/\""
   ]
  },
  {
   "cell_type": "code",
   "execution_count": 16,
   "metadata": {},
   "outputs": [],
   "source": [
    "def resize_img(original_img: Image, input_size, fill_value=0) -> Image:\n",
    "    \"\"\"\n",
    "\n",
    "    :param original_img:\n",
    "    :param input_size:\n",
    "    :param fill_value:\n",
    "    :return:\n",
    "    \"\"\"\n",
    "    img_w = original_img.width\n",
    "    img_h = original_img.height\n",
    "    w, h = input_size\n",
    "    scale_rate = min(w / img_w, h / img_h)\n",
    "    new_w = int(img_w * scale_rate)\n",
    "    new_h = int(img_h * scale_rate)\n",
    "\n",
    "    img = original_img.resize((new_w, new_h), resample=PIL.Image.BICUBIC)\n",
    "    _img = Image.new(\"RGB\", (w, h), color=fill_value)\n",
    "    _img.paste(img, ((w - new_w) // 2, (h - new_h) // 2))\n",
    "    return _img\n"
   ]
  },
  {
   "cell_type": "code",
   "execution_count": 17,
   "metadata": {},
   "outputs": [],
   "source": [
    "def data_iter(dirname, feature_map):\n",
    "    \"\"\"\n",
    "    \"\"\"\n",
    "    if not isinstance(dirname, Path):\n",
    "        dirname = Path(dirname)\n",
    "    for filename in dirname.iterdir():\n",
    "        try:\n",
    "            img = Image.open(filename)\n",
    "        except Exception as e:\n",
    "            logger.warning(e)\n",
    "        else:\n",
    "            img = resize_img(img, (224, 224))\n",
    "            name = os.fspath(Path(filename))\n",
    "            with torch.no_grad():\n",
    "                data_in = ToTensor()(img).unsqueeze(0)\n",
    "                data_out = feature_map(data_in).reshape(1, -1).numpy()\n",
    "            yield name, data_out"
   ]
  },
  {
   "cell_type": "code",
   "execution_count": 75,
   "metadata": {},
   "outputs": [],
   "source": [
    "fr = h5py.File(\"features.hdf5\", \"w\")"
   ]
  },
  {
   "cell_type": "code",
   "execution_count": 76,
   "metadata": {},
   "outputs": [
    {
     "data": {
      "text/plain": [
       "<HDF5 dataset \"features\": shape (100, 25088), type \"<f4\">"
      ]
     },
     "execution_count": 76,
     "metadata": {},
     "output_type": "execute_result"
    }
   ],
   "source": [
    "fr.create_dataset(\"features\", (100, d), dtype=\"f4\")"
   ]
  },
  {
   "cell_type": "code",
   "execution_count": 77,
   "metadata": {},
   "outputs": [],
   "source": [
    "dt = h5py.special_dtype(vlen=str) "
   ]
  },
  {
   "cell_type": "code",
   "execution_count": 78,
   "metadata": {},
   "outputs": [
    {
     "data": {
      "text/plain": [
       "<HDF5 dataset \"filenames\": shape (100,), type \"|O\">"
      ]
     },
     "execution_count": 78,
     "metadata": {},
     "output_type": "execute_result"
    }
   ],
   "source": [
    "fr.create_dataset(\"filenames\", (100, ), dtype=dt)"
   ]
  },
  {
   "cell_type": "code",
   "execution_count": 79,
   "metadata": {},
   "outputs": [],
   "source": [
    "feature_dataset = fr['features']"
   ]
  },
  {
   "cell_type": "code",
   "execution_count": 80,
   "metadata": {},
   "outputs": [],
   "source": [
    "name_list = fr['filenames']"
   ]
  },
  {
   "cell_type": "code",
   "execution_count": 81,
   "metadata": {},
   "outputs": [
    {
     "name": "stderr",
     "output_type": "stream",
     "text": [
      "2019-07-19 18:06:35.295 | INFO     | __main__:<module>:2 - add 0th data: /data/DIV2K/DIV2K_valid_HR/0836.png\n",
      "2019-07-19 18:06:35.465 | INFO     | __main__:<module>:2 - add 1th data: /data/DIV2K/DIV2K_valid_HR/0851.png\n",
      "2019-07-19 18:06:35.642 | INFO     | __main__:<module>:2 - add 2th data: /data/DIV2K/DIV2K_valid_HR/0856.png\n",
      "2019-07-19 18:06:35.842 | INFO     | __main__:<module>:2 - add 3th data: /data/DIV2K/DIV2K_valid_HR/0809.png\n",
      "2019-07-19 18:06:36.026 | INFO     | __main__:<module>:2 - add 4th data: /data/DIV2K/DIV2K_valid_HR/0804.png\n",
      "2019-07-19 18:06:36.209 | INFO     | __main__:<module>:2 - add 5th data: /data/DIV2K/DIV2K_valid_HR/0816.png\n",
      "2019-07-19 18:06:36.384 | INFO     | __main__:<module>:2 - add 6th data: /data/DIV2K/DIV2K_valid_HR/0805.png\n",
      "2019-07-19 18:06:36.557 | INFO     | __main__:<module>:2 - add 7th data: /data/DIV2K/DIV2K_valid_HR/0845.png\n",
      "2019-07-19 18:06:36.736 | INFO     | __main__:<module>:2 - add 8th data: /data/DIV2K/DIV2K_valid_HR/0813.png\n",
      "2019-07-19 18:06:36.911 | INFO     | __main__:<module>:2 - add 9th data: /data/DIV2K/DIV2K_valid_HR/0806.png\n",
      "2019-07-19 18:06:37.068 | INFO     | __main__:<module>:2 - add 10th data: /data/DIV2K/DIV2K_valid_HR/0854.png\n",
      "2019-07-19 18:06:37.254 | INFO     | __main__:<module>:2 - add 11th data: /data/DIV2K/DIV2K_valid_HR/0817.png\n",
      "2019-07-19 18:06:37.462 | INFO     | __main__:<module>:2 - add 12th data: /data/DIV2K/DIV2K_valid_HR/0827.png\n",
      "2019-07-19 18:06:37.675 | INFO     | __main__:<module>:2 - add 13th data: /data/DIV2K/DIV2K_valid_HR/0803.png\n",
      "2019-07-19 18:06:37.876 | INFO     | __main__:<module>:2 - add 14th data: /data/DIV2K/DIV2K_valid_HR/0867.png\n",
      "2019-07-19 18:06:38.063 | INFO     | __main__:<module>:2 - add 15th data: /data/DIV2K/DIV2K_valid_HR/0882.png\n",
      "2019-07-19 18:06:38.257 | INFO     | __main__:<module>:2 - add 16th data: /data/DIV2K/DIV2K_valid_HR/0865.png\n",
      "2019-07-19 18:06:38.449 | INFO     | __main__:<module>:2 - add 17th data: /data/DIV2K/DIV2K_valid_HR/0861.png\n",
      "2019-07-19 18:06:38.658 | INFO     | __main__:<module>:2 - add 18th data: /data/DIV2K/DIV2K_valid_HR/0818.png\n",
      "2019-07-19 18:06:38.823 | INFO     | __main__:<module>:2 - add 19th data: /data/DIV2K/DIV2K_valid_HR/0896.png\n",
      "2019-07-19 18:06:39.001 | INFO     | __main__:<module>:2 - add 20th data: /data/DIV2K/DIV2K_valid_HR/0899.png\n",
      "2019-07-19 18:06:39.163 | INFO     | __main__:<module>:2 - add 21th data: /data/DIV2K/DIV2K_valid_HR/0829.png\n",
      "2019-07-19 18:06:39.331 | INFO     | __main__:<module>:2 - add 22th data: /data/DIV2K/DIV2K_valid_HR/0802.png\n",
      "2019-07-19 18:06:39.523 | INFO     | __main__:<module>:2 - add 23th data: /data/DIV2K/DIV2K_valid_HR/0835.png\n",
      "2019-07-19 18:06:39.707 | INFO     | __main__:<module>:2 - add 24th data: /data/DIV2K/DIV2K_valid_HR/0801.png\n",
      "2019-07-19 18:06:39.905 | INFO     | __main__:<module>:2 - add 25th data: /data/DIV2K/DIV2K_valid_HR/0873.png\n",
      "2019-07-19 18:06:40.089 | INFO     | __main__:<module>:2 - add 26th data: /data/DIV2K/DIV2K_valid_HR/0844.png\n",
      "2019-07-19 18:06:40.248 | INFO     | __main__:<module>:2 - add 27th data: /data/DIV2K/DIV2K_valid_HR/0807.png\n",
      "2019-07-19 18:06:40.398 | INFO     | __main__:<module>:2 - add 28th data: /data/DIV2K/DIV2K_valid_HR/0852.png\n",
      "2019-07-19 18:06:40.577 | INFO     | __main__:<module>:2 - add 29th data: /data/DIV2K/DIV2K_valid_HR/0853.png\n",
      "2019-07-19 18:06:40.760 | INFO     | __main__:<module>:2 - add 30th data: /data/DIV2K/DIV2K_valid_HR/0823.png\n",
      "2019-07-19 18:06:40.950 | INFO     | __main__:<module>:2 - add 31th data: /data/DIV2K/DIV2K_valid_HR/0888.png\n",
      "2019-07-19 18:06:41.122 | INFO     | __main__:<module>:2 - add 32th data: /data/DIV2K/DIV2K_valid_HR/0815.png\n",
      "2019-07-19 18:06:41.285 | INFO     | __main__:<module>:2 - add 33th data: /data/DIV2K/DIV2K_valid_HR/0893.png\n",
      "2019-07-19 18:06:41.455 | INFO     | __main__:<module>:2 - add 34th data: /data/DIV2K/DIV2K_valid_HR/0895.png\n",
      "2019-07-19 18:06:41.634 | INFO     | __main__:<module>:2 - add 35th data: /data/DIV2K/DIV2K_valid_HR/0887.png\n",
      "2019-07-19 18:06:41.793 | INFO     | __main__:<module>:2 - add 36th data: /data/DIV2K/DIV2K_valid_HR/0862.png\n",
      "2019-07-19 18:06:41.993 | INFO     | __main__:<module>:2 - add 37th data: /data/DIV2K/DIV2K_valid_HR/0825.png\n",
      "2019-07-19 18:06:42.151 | INFO     | __main__:<module>:2 - add 38th data: /data/DIV2K/DIV2K_valid_HR/0838.png\n",
      "2019-07-19 18:06:42.333 | INFO     | __main__:<module>:2 - add 39th data: /data/DIV2K/DIV2K_valid_HR/0824.png\n",
      "2019-07-19 18:06:42.529 | INFO     | __main__:<module>:2 - add 40th data: /data/DIV2K/DIV2K_valid_HR/0884.png\n",
      "2019-07-19 18:06:42.703 | INFO     | __main__:<module>:2 - add 41th data: /data/DIV2K/DIV2K_valid_HR/0858.png\n",
      "2019-07-19 18:06:42.904 | INFO     | __main__:<module>:2 - add 42th data: /data/DIV2K/DIV2K_valid_HR/0812.png\n",
      "2019-07-19 18:06:43.084 | INFO     | __main__:<module>:2 - add 43th data: /data/DIV2K/DIV2K_valid_HR/0869.png\n",
      "2019-07-19 18:06:43.252 | INFO     | __main__:<module>:2 - add 44th data: /data/DIV2K/DIV2K_valid_HR/0897.png\n",
      "2019-07-19 18:06:43.413 | INFO     | __main__:<module>:2 - add 45th data: /data/DIV2K/DIV2K_valid_HR/0877.png\n",
      "2019-07-19 18:06:43.581 | INFO     | __main__:<module>:2 - add 46th data: /data/DIV2K/DIV2K_valid_HR/0808.png\n",
      "2019-07-19 18:06:43.780 | INFO     | __main__:<module>:2 - add 47th data: /data/DIV2K/DIV2K_valid_HR/0810.png\n",
      "2019-07-19 18:06:43.962 | INFO     | __main__:<module>:2 - add 48th data: /data/DIV2K/DIV2K_valid_HR/0876.png\n",
      "2019-07-19 18:06:44.161 | INFO     | __main__:<module>:2 - add 49th data: /data/DIV2K/DIV2K_valid_HR/0820.png\n",
      "2019-07-19 18:06:44.331 | INFO     | __main__:<module>:2 - add 50th data: /data/DIV2K/DIV2K_valid_HR/0881.png\n",
      "2019-07-19 18:06:44.528 | INFO     | __main__:<module>:2 - add 51th data: /data/DIV2K/DIV2K_valid_HR/0832.png\n",
      "2019-07-19 18:06:44.672 | INFO     | __main__:<module>:2 - add 52th data: /data/DIV2K/DIV2K_valid_HR/0868.png\n",
      "2019-07-19 18:06:44.847 | INFO     | __main__:<module>:2 - add 53th data: /data/DIV2K/DIV2K_valid_HR/0811.png\n",
      "2019-07-19 18:06:45.033 | INFO     | __main__:<module>:2 - add 54th data: /data/DIV2K/DIV2K_valid_HR/0894.png\n",
      "2019-07-19 18:06:45.229 | INFO     | __main__:<module>:2 - add 55th data: /data/DIV2K/DIV2K_valid_HR/0821.png\n",
      "2019-07-19 18:06:45.372 | INFO     | __main__:<module>:2 - add 56th data: /data/DIV2K/DIV2K_valid_HR/0830.png\n",
      "2019-07-19 18:06:45.539 | INFO     | __main__:<module>:2 - add 57th data: /data/DIV2K/DIV2K_valid_HR/0880.png\n",
      "2019-07-19 18:06:45.735 | INFO     | __main__:<module>:2 - add 58th data: /data/DIV2K/DIV2K_valid_HR/0874.png\n",
      "2019-07-19 18:06:45.910 | INFO     | __main__:<module>:2 - add 59th data: /data/DIV2K/DIV2K_valid_HR/0848.png\n",
      "2019-07-19 18:06:46.099 | INFO     | __main__:<module>:2 - add 60th data: /data/DIV2K/DIV2K_valid_HR/0866.png\n",
      "2019-07-19 18:06:46.285 | INFO     | __main__:<module>:2 - add 61th data: /data/DIV2K/DIV2K_valid_HR/0841.png\n",
      "2019-07-19 18:06:46.485 | INFO     | __main__:<module>:2 - add 62th data: /data/DIV2K/DIV2K_valid_HR/0860.png\n",
      "2019-07-19 18:06:46.657 | INFO     | __main__:<module>:2 - add 63th data: /data/DIV2K/DIV2K_valid_HR/0872.png\n",
      "2019-07-19 18:06:46.838 | INFO     | __main__:<module>:2 - add 64th data: /data/DIV2K/DIV2K_valid_HR/0846.png\n",
      "2019-07-19 18:06:47.009 | INFO     | __main__:<module>:2 - add 65th data: /data/DIV2K/DIV2K_valid_HR/0828.png\n",
      "2019-07-19 18:06:47.145 | INFO     | __main__:<module>:2 - add 66th data: /data/DIV2K/DIV2K_valid_HR/0843.png\n",
      "2019-07-19 18:06:47.316 | INFO     | __main__:<module>:2 - add 67th data: /data/DIV2K/DIV2K_valid_HR/0814.png\n",
      "2019-07-19 18:06:47.526 | INFO     | __main__:<module>:2 - add 68th data: /data/DIV2K/DIV2K_valid_HR/0822.png\n",
      "2019-07-19 18:06:47.715 | INFO     | __main__:<module>:2 - add 69th data: /data/DIV2K/DIV2K_valid_HR/0847.png\n",
      "2019-07-19 18:06:47.883 | INFO     | __main__:<module>:2 - add 70th data: /data/DIV2K/DIV2K_valid_HR/0898.png\n",
      "2019-07-19 18:06:48.088 | INFO     | __main__:<module>:2 - add 71th data: /data/DIV2K/DIV2K_valid_HR/0855.png\n",
      "2019-07-19 18:06:48.309 | INFO     | __main__:<module>:2 - add 72th data: /data/DIV2K/DIV2K_valid_HR/0875.png\n",
      "2019-07-19 18:06:48.477 | INFO     | __main__:<module>:2 - add 73th data: /data/DIV2K/DIV2K_valid_HR/0834.png\n",
      "2019-07-19 18:06:48.671 | INFO     | __main__:<module>:2 - add 74th data: /data/DIV2K/DIV2K_valid_HR/0871.png\n",
      "2019-07-19 18:06:48.859 | INFO     | __main__:<module>:2 - add 75th data: /data/DIV2K/DIV2K_valid_HR/0833.png\n",
      "2019-07-19 18:06:49.054 | INFO     | __main__:<module>:2 - add 76th data: /data/DIV2K/DIV2K_valid_HR/0826.png\n",
      "2019-07-19 18:06:49.221 | INFO     | __main__:<module>:2 - add 77th data: /data/DIV2K/DIV2K_valid_HR/0842.png\n",
      "2019-07-19 18:06:49.400 | INFO     | __main__:<module>:2 - add 78th data: /data/DIV2K/DIV2K_valid_HR/0859.png\n",
      "2019-07-19 18:06:49.605 | INFO     | __main__:<module>:2 - add 79th data: /data/DIV2K/DIV2K_valid_HR/0883.png\n",
      "2019-07-19 18:06:49.800 | INFO     | __main__:<module>:2 - add 80th data: /data/DIV2K/DIV2K_valid_HR/0831.png\n",
      "2019-07-19 18:06:49.987 | INFO     | __main__:<module>:2 - add 81th data: /data/DIV2K/DIV2K_valid_HR/0900.png\n",
      "2019-07-19 18:06:50.138 | INFO     | __main__:<module>:2 - add 82th data: /data/DIV2K/DIV2K_valid_HR/0839.png\n",
      "2019-07-19 18:06:50.358 | INFO     | __main__:<module>:2 - add 83th data: /data/DIV2K/DIV2K_valid_HR/0870.png\n",
      "2019-07-19 18:06:50.553 | INFO     | __main__:<module>:2 - add 84th data: /data/DIV2K/DIV2K_valid_HR/0837.png\n",
      "2019-07-19 18:06:50.770 | INFO     | __main__:<module>:2 - add 85th data: /data/DIV2K/DIV2K_valid_HR/0878.png\n",
      "2019-07-19 18:06:50.995 | INFO     | __main__:<module>:2 - add 86th data: /data/DIV2K/DIV2K_valid_HR/0891.png\n",
      "2019-07-19 18:06:51.221 | INFO     | __main__:<module>:2 - add 87th data: /data/DIV2K/DIV2K_valid_HR/0879.png\n",
      "2019-07-19 18:06:51.420 | INFO     | __main__:<module>:2 - add 88th data: /data/DIV2K/DIV2K_valid_HR/0885.png\n",
      "2019-07-19 18:06:51.621 | INFO     | __main__:<module>:2 - add 89th data: /data/DIV2K/DIV2K_valid_HR/0819.png\n",
      "2019-07-19 18:06:51.823 | INFO     | __main__:<module>:2 - add 90th data: /data/DIV2K/DIV2K_valid_HR/0889.png\n",
      "2019-07-19 18:06:52.018 | INFO     | __main__:<module>:2 - add 91th data: /data/DIV2K/DIV2K_valid_HR/0864.png\n",
      "2019-07-19 18:06:52.202 | INFO     | __main__:<module>:2 - add 92th data: /data/DIV2K/DIV2K_valid_HR/0863.png\n",
      "2019-07-19 18:06:52.381 | INFO     | __main__:<module>:2 - add 93th data: /data/DIV2K/DIV2K_valid_HR/0840.png\n",
      "2019-07-19 18:06:52.549 | INFO     | __main__:<module>:2 - add 94th data: /data/DIV2K/DIV2K_valid_HR/0892.png\n",
      "2019-07-19 18:06:52.711 | INFO     | __main__:<module>:2 - add 95th data: /data/DIV2K/DIV2K_valid_HR/0886.png\n",
      "2019-07-19 18:06:52.874 | INFO     | __main__:<module>:2 - add 96th data: /data/DIV2K/DIV2K_valid_HR/0857.png\n",
      "2019-07-19 18:06:53.058 | INFO     | __main__:<module>:2 - add 97th data: /data/DIV2K/DIV2K_valid_HR/0850.png\n",
      "2019-07-19 18:06:53.227 | INFO     | __main__:<module>:2 - add 98th data: /data/DIV2K/DIV2K_valid_HR/0890.png\n",
      "2019-07-19 18:06:53.410 | INFO     | __main__:<module>:2 - add 99th data: /data/DIV2K/DIV2K_valid_HR/0849.png\n"
     ]
    }
   ],
   "source": [
    "for i, (name, data_out) in enumerate(data_iter(dirname, feature_map)):\n",
    "    logger.info(f\"add {i}th data: {name}\")\n",
    "    feature_dataset[i] = data_out\n",
    "    name_list[i] = np.string_(name)"
   ]
  },
  {
   "cell_type": "code",
   "execution_count": 82,
   "metadata": {},
   "outputs": [],
   "source": [
    "fr.close()"
   ]
  },
  {
   "cell_type": "code",
   "execution_count": 83,
   "metadata": {},
   "outputs": [],
   "source": [
    "fr = h5py.File(\"features.hdf5\", \"r\")"
   ]
  },
  {
   "cell_type": "code",
   "execution_count": 84,
   "metadata": {},
   "outputs": [
    {
     "data": {
      "text/plain": [
       "array([[0., 0., 0., ..., 0., 0., 0.],\n",
       "       [0., 0., 0., ..., 0., 0., 0.],\n",
       "       [0., 0., 0., ..., 0., 0., 0.],\n",
       "       ...,\n",
       "       [0., 0., 0., ..., 0., 0., 0.],\n",
       "       [0., 0., 0., ..., 0., 0., 0.],\n",
       "       [0., 0., 0., ..., 0., 0., 0.]], dtype=float32)"
      ]
     },
     "execution_count": 84,
     "metadata": {},
     "output_type": "execute_result"
    }
   ],
   "source": [
    "fr['features'][:]"
   ]
  },
  {
   "cell_type": "code",
   "execution_count": 85,
   "metadata": {},
   "outputs": [
    {
     "data": {
      "text/plain": [
       "'/data/DIV2K/DIV2K_valid_HR/0836.png'"
      ]
     },
     "execution_count": 85,
     "metadata": {},
     "output_type": "execute_result"
    }
   ],
   "source": [
    "fr['filenames'][0]"
   ]
  },
  {
   "cell_type": "code",
   "execution_count": 86,
   "metadata": {},
   "outputs": [],
   "source": [
    "fr.close()"
   ]
  },
  {
   "cell_type": "code",
   "execution_count": 20,
   "metadata": {},
   "outputs": [],
   "source": [
    "filename = \"/data/DIV2K/DIV2K_valid_HR/0803.png\""
   ]
  },
  {
   "cell_type": "code",
   "execution_count": 21,
   "metadata": {},
   "outputs": [],
   "source": [
    "img = Image.open(filename)\n",
    "img = resize_img(img, (224, 224))"
   ]
  },
  {
   "cell_type": "code",
   "execution_count": 22,
   "metadata": {},
   "outputs": [],
   "source": [
    "with torch.no_grad():\n",
    "    data_in = ToTensor()(img).unsqueeze(0)\n",
    "    out = feature_map(data_in).reshape(1, -1).numpy()"
   ]
  },
  {
   "cell_type": "code",
   "execution_count": 23,
   "metadata": {},
   "outputs": [
    {
     "data": {
      "text/plain": [
       "array([[0., 0., 0., ..., 0., 0., 0.]], dtype=float32)"
      ]
     },
     "execution_count": 23,
     "metadata": {},
     "output_type": "execute_result"
    }
   ],
   "source": [
    "out"
   ]
  },
  {
   "cell_type": "code",
   "execution_count": 24,
   "metadata": {},
   "outputs": [],
   "source": [
    "d = out.shape[1]"
   ]
  },
  {
   "cell_type": "code",
   "execution_count": 25,
   "metadata": {},
   "outputs": [
    {
     "data": {
      "text/plain": [
       "25088"
      ]
     },
     "execution_count": 25,
     "metadata": {},
     "output_type": "execute_result"
    }
   ],
   "source": [
    "d"
   ]
  },
  {
   "cell_type": "code",
   "execution_count": 26,
   "metadata": {},
   "outputs": [],
   "source": [
    "index = faiss.IndexFlatL2(d)"
   ]
  },
  {
   "cell_type": "code",
   "execution_count": 27,
   "metadata": {},
   "outputs": [
    {
     "data": {
      "text/plain": [
       "<faiss.swigfaiss.IndexFlatL2; proxy of <Swig Object of type 'faiss::IndexFlatL2 *' at 0x7fbf46cf4780> >"
      ]
     },
     "execution_count": 27,
     "metadata": {},
     "output_type": "execute_result"
    }
   ],
   "source": [
    "index"
   ]
  },
  {
   "cell_type": "code",
   "execution_count": 28,
   "metadata": {},
   "outputs": [
    {
     "data": {
      "text/plain": [
       "True"
      ]
     },
     "execution_count": 28,
     "metadata": {},
     "output_type": "execute_result"
    }
   ],
   "source": [
    "index.is_trained"
   ]
  },
  {
   "cell_type": "code",
   "execution_count": 29,
   "metadata": {},
   "outputs": [],
   "source": [
    "name_list = []"
   ]
  },
  {
   "cell_type": "code",
   "execution_count": null,
   "metadata": {},
   "outputs": [],
   "source": [
    "def build_index(h5df_path):\n",
    "    \"\"\"\n",
    "    \"\"\"\n",
    "    index = faiss.IndexFlatL2(d)\n",
    "    with h5py.File(\"features.hdf5\", \"r\") as fr:\n",
    "        index.add(fr['features'][:])\n",
    "    "
   ]
  },
  {
   "cell_type": "code",
   "execution_count": 30,
   "metadata": {},
   "outputs": [
    {
     "name": "stderr",
     "output_type": "stream",
     "text": [
      "2019-07-19 17:45:59.785 | INFO     | __main__:<module>:3 - add 0th data: /data/DIV2K/DIV2K_valid_HR/0836.png\n",
      "2019-07-19 17:45:59.956 | INFO     | __main__:<module>:3 - add 1th data: /data/DIV2K/DIV2K_valid_HR/0851.png\n",
      "2019-07-19 17:46:00.132 | INFO     | __main__:<module>:3 - add 2th data: /data/DIV2K/DIV2K_valid_HR/0856.png\n",
      "2019-07-19 17:46:00.331 | INFO     | __main__:<module>:3 - add 3th data: /data/DIV2K/DIV2K_valid_HR/0809.png\n",
      "2019-07-19 17:46:00.514 | INFO     | __main__:<module>:3 - add 4th data: /data/DIV2K/DIV2K_valid_HR/0804.png\n",
      "2019-07-19 17:46:00.697 | INFO     | __main__:<module>:3 - add 5th data: /data/DIV2K/DIV2K_valid_HR/0816.png\n",
      "2019-07-19 17:46:00.869 | INFO     | __main__:<module>:3 - add 6th data: /data/DIV2K/DIV2K_valid_HR/0805.png\n",
      "2019-07-19 17:46:01.039 | INFO     | __main__:<module>:3 - add 7th data: /data/DIV2K/DIV2K_valid_HR/0845.png\n",
      "2019-07-19 17:46:01.218 | INFO     | __main__:<module>:3 - add 8th data: /data/DIV2K/DIV2K_valid_HR/0813.png\n",
      "2019-07-19 17:46:01.394 | INFO     | __main__:<module>:3 - add 9th data: /data/DIV2K/DIV2K_valid_HR/0806.png\n",
      "2019-07-19 17:46:01.550 | INFO     | __main__:<module>:3 - add 10th data: /data/DIV2K/DIV2K_valid_HR/0854.png\n",
      "2019-07-19 17:46:01.735 | INFO     | __main__:<module>:3 - add 11th data: /data/DIV2K/DIV2K_valid_HR/0817.png\n",
      "2019-07-19 17:46:01.942 | INFO     | __main__:<module>:3 - add 12th data: /data/DIV2K/DIV2K_valid_HR/0827.png\n",
      "2019-07-19 17:46:02.154 | INFO     | __main__:<module>:3 - add 13th data: /data/DIV2K/DIV2K_valid_HR/0803.png\n",
      "2019-07-19 17:46:02.354 | INFO     | __main__:<module>:3 - add 14th data: /data/DIV2K/DIV2K_valid_HR/0867.png\n",
      "2019-07-19 17:46:02.536 | INFO     | __main__:<module>:3 - add 15th data: /data/DIV2K/DIV2K_valid_HR/0882.png\n",
      "2019-07-19 17:46:02.728 | INFO     | __main__:<module>:3 - add 16th data: /data/DIV2K/DIV2K_valid_HR/0865.png\n",
      "2019-07-19 17:46:02.991 | INFO     | __main__:<module>:3 - add 17th data: /data/DIV2K/DIV2K_valid_HR/0861.png\n",
      "2019-07-19 17:46:03.283 | INFO     | __main__:<module>:3 - add 18th data: /data/DIV2K/DIV2K_valid_HR/0818.png\n",
      "2019-07-19 17:46:03.451 | INFO     | __main__:<module>:3 - add 19th data: /data/DIV2K/DIV2K_valid_HR/0896.png\n",
      "2019-07-19 17:46:03.629 | INFO     | __main__:<module>:3 - add 20th data: /data/DIV2K/DIV2K_valid_HR/0899.png\n",
      "2019-07-19 17:46:03.791 | INFO     | __main__:<module>:3 - add 21th data: /data/DIV2K/DIV2K_valid_HR/0829.png\n",
      "2019-07-19 17:46:03.958 | INFO     | __main__:<module>:3 - add 22th data: /data/DIV2K/DIV2K_valid_HR/0802.png\n",
      "2019-07-19 17:46:04.148 | INFO     | __main__:<module>:3 - add 23th data: /data/DIV2K/DIV2K_valid_HR/0835.png\n",
      "2019-07-19 17:46:04.333 | INFO     | __main__:<module>:3 - add 24th data: /data/DIV2K/DIV2K_valid_HR/0801.png\n",
      "2019-07-19 17:46:04.530 | INFO     | __main__:<module>:3 - add 25th data: /data/DIV2K/DIV2K_valid_HR/0873.png\n",
      "2019-07-19 17:46:04.714 | INFO     | __main__:<module>:3 - add 26th data: /data/DIV2K/DIV2K_valid_HR/0844.png\n",
      "2019-07-19 17:46:04.872 | INFO     | __main__:<module>:3 - add 27th data: /data/DIV2K/DIV2K_valid_HR/0807.png\n",
      "2019-07-19 17:46:05.021 | INFO     | __main__:<module>:3 - add 28th data: /data/DIV2K/DIV2K_valid_HR/0852.png\n",
      "2019-07-19 17:46:05.199 | INFO     | __main__:<module>:3 - add 29th data: /data/DIV2K/DIV2K_valid_HR/0853.png\n",
      "2019-07-19 17:46:05.382 | INFO     | __main__:<module>:3 - add 30th data: /data/DIV2K/DIV2K_valid_HR/0823.png\n",
      "2019-07-19 17:46:05.572 | INFO     | __main__:<module>:3 - add 31th data: /data/DIV2K/DIV2K_valid_HR/0888.png\n",
      "2019-07-19 17:46:05.744 | INFO     | __main__:<module>:3 - add 32th data: /data/DIV2K/DIV2K_valid_HR/0815.png\n",
      "2019-07-19 17:46:05.910 | INFO     | __main__:<module>:3 - add 33th data: /data/DIV2K/DIV2K_valid_HR/0893.png\n",
      "2019-07-19 17:46:06.082 | INFO     | __main__:<module>:3 - add 34th data: /data/DIV2K/DIV2K_valid_HR/0895.png\n",
      "2019-07-19 17:46:06.263 | INFO     | __main__:<module>:3 - add 35th data: /data/DIV2K/DIV2K_valid_HR/0887.png\n",
      "2019-07-19 17:46:06.425 | INFO     | __main__:<module>:3 - add 36th data: /data/DIV2K/DIV2K_valid_HR/0862.png\n",
      "2019-07-19 17:46:06.625 | INFO     | __main__:<module>:3 - add 37th data: /data/DIV2K/DIV2K_valid_HR/0825.png\n",
      "2019-07-19 17:46:06.783 | INFO     | __main__:<module>:3 - add 38th data: /data/DIV2K/DIV2K_valid_HR/0838.png\n",
      "2019-07-19 17:46:06.963 | INFO     | __main__:<module>:3 - add 39th data: /data/DIV2K/DIV2K_valid_HR/0824.png\n",
      "2019-07-19 17:46:07.158 | INFO     | __main__:<module>:3 - add 40th data: /data/DIV2K/DIV2K_valid_HR/0884.png\n",
      "2019-07-19 17:46:07.333 | INFO     | __main__:<module>:3 - add 41th data: /data/DIV2K/DIV2K_valid_HR/0858.png\n",
      "2019-07-19 17:46:07.533 | INFO     | __main__:<module>:3 - add 42th data: /data/DIV2K/DIV2K_valid_HR/0812.png\n",
      "2019-07-19 17:46:07.710 | INFO     | __main__:<module>:3 - add 43th data: /data/DIV2K/DIV2K_valid_HR/0869.png\n",
      "2019-07-19 17:46:07.878 | INFO     | __main__:<module>:3 - add 44th data: /data/DIV2K/DIV2K_valid_HR/0897.png\n",
      "2019-07-19 17:46:08.038 | INFO     | __main__:<module>:3 - add 45th data: /data/DIV2K/DIV2K_valid_HR/0877.png\n",
      "2019-07-19 17:46:08.206 | INFO     | __main__:<module>:3 - add 46th data: /data/DIV2K/DIV2K_valid_HR/0808.png\n",
      "2019-07-19 17:46:08.406 | INFO     | __main__:<module>:3 - add 47th data: /data/DIV2K/DIV2K_valid_HR/0810.png\n",
      "2019-07-19 17:46:08.587 | INFO     | __main__:<module>:3 - add 48th data: /data/DIV2K/DIV2K_valid_HR/0876.png\n",
      "2019-07-19 17:46:08.786 | INFO     | __main__:<module>:3 - add 49th data: /data/DIV2K/DIV2K_valid_HR/0820.png\n",
      "2019-07-19 17:46:08.956 | INFO     | __main__:<module>:3 - add 50th data: /data/DIV2K/DIV2K_valid_HR/0881.png\n",
      "2019-07-19 17:46:09.152 | INFO     | __main__:<module>:3 - add 51th data: /data/DIV2K/DIV2K_valid_HR/0832.png\n",
      "2019-07-19 17:46:09.296 | INFO     | __main__:<module>:3 - add 52th data: /data/DIV2K/DIV2K_valid_HR/0868.png\n",
      "2019-07-19 17:46:09.472 | INFO     | __main__:<module>:3 - add 53th data: /data/DIV2K/DIV2K_valid_HR/0811.png\n",
      "2019-07-19 17:46:09.657 | INFO     | __main__:<module>:3 - add 54th data: /data/DIV2K/DIV2K_valid_HR/0894.png\n",
      "2019-07-19 17:46:09.852 | INFO     | __main__:<module>:3 - add 55th data: /data/DIV2K/DIV2K_valid_HR/0821.png\n",
      "2019-07-19 17:46:09.995 | INFO     | __main__:<module>:3 - add 56th data: /data/DIV2K/DIV2K_valid_HR/0830.png\n",
      "2019-07-19 17:46:10.162 | INFO     | __main__:<module>:3 - add 57th data: /data/DIV2K/DIV2K_valid_HR/0880.png\n",
      "2019-07-19 17:46:10.359 | INFO     | __main__:<module>:3 - add 58th data: /data/DIV2K/DIV2K_valid_HR/0874.png\n",
      "2019-07-19 17:46:10.535 | INFO     | __main__:<module>:3 - add 59th data: /data/DIV2K/DIV2K_valid_HR/0848.png\n",
      "2019-07-19 17:46:10.725 | INFO     | __main__:<module>:3 - add 60th data: /data/DIV2K/DIV2K_valid_HR/0866.png\n",
      "2019-07-19 17:46:10.911 | INFO     | __main__:<module>:3 - add 61th data: /data/DIV2K/DIV2K_valid_HR/0841.png\n",
      "2019-07-19 17:46:11.111 | INFO     | __main__:<module>:3 - add 62th data: /data/DIV2K/DIV2K_valid_HR/0860.png\n",
      "2019-07-19 17:46:11.283 | INFO     | __main__:<module>:3 - add 63th data: /data/DIV2K/DIV2K_valid_HR/0872.png\n",
      "2019-07-19 17:46:11.465 | INFO     | __main__:<module>:3 - add 64th data: /data/DIV2K/DIV2K_valid_HR/0846.png\n",
      "2019-07-19 17:46:11.636 | INFO     | __main__:<module>:3 - add 65th data: /data/DIV2K/DIV2K_valid_HR/0828.png\n",
      "2019-07-19 17:46:11.772 | INFO     | __main__:<module>:3 - add 66th data: /data/DIV2K/DIV2K_valid_HR/0843.png\n",
      "2019-07-19 17:46:11.942 | INFO     | __main__:<module>:3 - add 67th data: /data/DIV2K/DIV2K_valid_HR/0814.png\n",
      "2019-07-19 17:46:12.151 | INFO     | __main__:<module>:3 - add 68th data: /data/DIV2K/DIV2K_valid_HR/0822.png\n",
      "2019-07-19 17:46:12.341 | INFO     | __main__:<module>:3 - add 69th data: /data/DIV2K/DIV2K_valid_HR/0847.png\n",
      "2019-07-19 17:46:12.510 | INFO     | __main__:<module>:3 - add 70th data: /data/DIV2K/DIV2K_valid_HR/0898.png\n",
      "2019-07-19 17:46:12.714 | INFO     | __main__:<module>:3 - add 71th data: /data/DIV2K/DIV2K_valid_HR/0855.png\n",
      "2019-07-19 17:46:12.932 | INFO     | __main__:<module>:3 - add 72th data: /data/DIV2K/DIV2K_valid_HR/0875.png\n",
      "2019-07-19 17:46:13.101 | INFO     | __main__:<module>:3 - add 73th data: /data/DIV2K/DIV2K_valid_HR/0834.png\n",
      "2019-07-19 17:46:13.294 | INFO     | __main__:<module>:3 - add 74th data: /data/DIV2K/DIV2K_valid_HR/0871.png\n",
      "2019-07-19 17:46:13.485 | INFO     | __main__:<module>:3 - add 75th data: /data/DIV2K/DIV2K_valid_HR/0833.png\n",
      "2019-07-19 17:46:13.683 | INFO     | __main__:<module>:3 - add 76th data: /data/DIV2K/DIV2K_valid_HR/0826.png\n",
      "2019-07-19 17:46:13.851 | INFO     | __main__:<module>:3 - add 77th data: /data/DIV2K/DIV2K_valid_HR/0842.png\n",
      "2019-07-19 17:46:14.029 | INFO     | __main__:<module>:3 - add 78th data: /data/DIV2K/DIV2K_valid_HR/0859.png\n",
      "2019-07-19 17:46:14.233 | INFO     | __main__:<module>:3 - add 79th data: /data/DIV2K/DIV2K_valid_HR/0883.png\n",
      "2019-07-19 17:46:14.433 | INFO     | __main__:<module>:3 - add 80th data: /data/DIV2K/DIV2K_valid_HR/0831.png\n",
      "2019-07-19 17:46:14.619 | INFO     | __main__:<module>:3 - add 81th data: /data/DIV2K/DIV2K_valid_HR/0900.png\n",
      "2019-07-19 17:46:14.771 | INFO     | __main__:<module>:3 - add 82th data: /data/DIV2K/DIV2K_valid_HR/0839.png\n",
      "2019-07-19 17:46:14.990 | INFO     | __main__:<module>:3 - add 83th data: /data/DIV2K/DIV2K_valid_HR/0870.png\n",
      "2019-07-19 17:46:15.185 | INFO     | __main__:<module>:3 - add 84th data: /data/DIV2K/DIV2K_valid_HR/0837.png\n",
      "2019-07-19 17:46:15.402 | INFO     | __main__:<module>:3 - add 85th data: /data/DIV2K/DIV2K_valid_HR/0878.png\n",
      "2019-07-19 17:46:15.626 | INFO     | __main__:<module>:3 - add 86th data: /data/DIV2K/DIV2K_valid_HR/0891.png\n",
      "2019-07-19 17:46:15.853 | INFO     | __main__:<module>:3 - add 87th data: /data/DIV2K/DIV2K_valid_HR/0879.png\n",
      "2019-07-19 17:46:16.052 | INFO     | __main__:<module>:3 - add 88th data: /data/DIV2K/DIV2K_valid_HR/0885.png\n",
      "2019-07-19 17:46:16.254 | INFO     | __main__:<module>:3 - add 89th data: /data/DIV2K/DIV2K_valid_HR/0819.png\n",
      "2019-07-19 17:46:16.458 | INFO     | __main__:<module>:3 - add 90th data: /data/DIV2K/DIV2K_valid_HR/0889.png\n",
      "2019-07-19 17:46:16.652 | INFO     | __main__:<module>:3 - add 91th data: /data/DIV2K/DIV2K_valid_HR/0864.png\n",
      "2019-07-19 17:46:16.836 | INFO     | __main__:<module>:3 - add 92th data: /data/DIV2K/DIV2K_valid_HR/0863.png\n",
      "2019-07-19 17:46:17.015 | INFO     | __main__:<module>:3 - add 93th data: /data/DIV2K/DIV2K_valid_HR/0840.png\n",
      "2019-07-19 17:46:17.183 | INFO     | __main__:<module>:3 - add 94th data: /data/DIV2K/DIV2K_valid_HR/0892.png\n",
      "2019-07-19 17:46:17.345 | INFO     | __main__:<module>:3 - add 95th data: /data/DIV2K/DIV2K_valid_HR/0886.png\n",
      "2019-07-19 17:46:17.509 | INFO     | __main__:<module>:3 - add 96th data: /data/DIV2K/DIV2K_valid_HR/0857.png\n",
      "2019-07-19 17:46:17.692 | INFO     | __main__:<module>:3 - add 97th data: /data/DIV2K/DIV2K_valid_HR/0850.png\n",
      "2019-07-19 17:46:17.861 | INFO     | __main__:<module>:3 - add 98th data: /data/DIV2K/DIV2K_valid_HR/0890.png\n",
      "2019-07-19 17:46:18.044 | INFO     | __main__:<module>:3 - add 99th data: /data/DIV2K/DIV2K_valid_HR/0849.png\n",
      "2019-07-19 17:46:18.045 | INFO     | __main__:<module>:6 - duration: 18.474321603775024\n"
     ]
    }
   ],
   "source": [
    "start = time.time()\n",
    "for i, (name, data_out) in enumerate(data_iter(dirname, feature_map)):\n",
    "    logger.info(f\"add {i}th data: {name}\")\n",
    "    name_list.append(name)\n",
    "    index.add(data_out)\n",
    "logger.info(f\"duration: {time.time() - start}\")"
   ]
  },
  {
   "cell_type": "code",
   "execution_count": 31,
   "metadata": {},
   "outputs": [
    {
     "data": {
      "text/plain": [
       "(array([[   0.   , 9132.658, 9288.479, 9791.4  ]], dtype=float32),\n",
       " array([[13, 44, 99, 52]]))"
      ]
     },
     "execution_count": 31,
     "metadata": {},
     "output_type": "execute_result"
    }
   ],
   "source": [
    "index.search(out, 4)"
   ]
  },
  {
   "cell_type": "code",
   "execution_count": 32,
   "metadata": {},
   "outputs": [
    {
     "data": {
      "text/plain": [
       "'/data/DIV2K/DIV2K_valid_HR/0836.png'"
      ]
     },
     "execution_count": 32,
     "metadata": {},
     "output_type": "execute_result"
    }
   ],
   "source": [
    "name_list[0]"
   ]
  },
  {
   "cell_type": "code",
   "execution_count": null,
   "metadata": {},
   "outputs": [],
   "source": []
  }
 ],
 "metadata": {
  "kernelspec": {
   "display_name": "Python [conda env:torch]",
   "language": "python",
   "name": "conda-env-torch-py"
  },
  "language_info": {
   "codemirror_mode": {
    "name": "ipython",
    "version": 3
   },
   "file_extension": ".py",
   "mimetype": "text/x-python",
   "name": "python",
   "nbconvert_exporter": "python",
   "pygments_lexer": "ipython3",
   "version": "3.7.3"
  }
 },
 "nbformat": 4,
 "nbformat_minor": 2
}
