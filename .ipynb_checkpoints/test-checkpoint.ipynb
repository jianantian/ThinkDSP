{
 "cells": [
  {
   "cell_type": "code",
   "execution_count": 83,
   "metadata": {},
   "outputs": [],
   "source": [
    "import numpy as np\n",
    "import pandas as pd\n",
    "import torch\n",
    "from torch.utils import data"
   ]
  },
  {
   "cell_type": "code",
   "execution_count": 84,
   "metadata": {},
   "outputs": [],
   "source": [
    "from scipy.io import wavfile"
   ]
  },
  {
   "cell_type": "code",
   "execution_count": 85,
   "metadata": {},
   "outputs": [],
   "source": [
    "from functools import lru_cache"
   ]
  },
  {
   "cell_type": "code",
   "execution_count": 86,
   "metadata": {},
   "outputs": [],
   "source": [
    "from pathlib import Path"
   ]
  },
  {
   "cell_type": "code",
   "execution_count": 275,
   "metadata": {},
   "outputs": [],
   "source": [
    "from loguru import logger"
   ]
  },
  {
   "cell_type": "code",
   "execution_count": 150,
   "metadata": {},
   "outputs": [],
   "source": [
    "def data_loader(fname, input_length):\n",
    "    _, data = wavfile.read(fname)\n",
    "    amp = np.max(np.abs(data))\n",
    "    if len(data) > input_length:\n",
    "        max_index = len(data) - input_length\n",
    "        offset = np.random.randint(max_index)\n",
    "        data = data[offset: input_length + offset]\n",
    "    elif len(data) < input_length:\n",
    "        total_pad = input_length - len(data)\n",
    "        head_pad = np.random.randint(total_pad)\n",
    "        tail_pad = total_pad - head_pad\n",
    "        data = np.pad(data, (head_pad, tail_pad), 'constant')\n",
    "    data = data.astype(dtype=np.float32) / amp\n",
    "    return torch.from_numpy(data.copy()).float()"
   ]
  },
  {
   "cell_type": "code",
   "execution_count": 196,
   "metadata": {},
   "outputs": [],
   "source": [
    "def get_dataset_meta(filename):\n",
    "    raw_data = pd.read_csv(filename)\n",
    "    labels = tuple(raw_data.label.unique())\n",
    "    label_dct = {name: i for i, name in enumerate(labels)}\n",
    "    return labels, label_dct"
   ]
  },
  {
   "cell_type": "code",
   "execution_count": 276,
   "metadata": {},
   "outputs": [],
   "source": [
    "def get_test_data(filename):\n",
    "    \"\"\"\n",
    "    \"\"\"\n",
    "    dirname = Path(filename).parent\n",
    "    res_filename = dirname / 'train_validate.csv'\n",
    "    if res_filename.exists():\n",
    "        logger.info(f'Reading from {res_filename}')\n",
    "        return pd.read_csv(res_filename)\n",
    "    \n",
    "    data = pd.read_csv(filename)\n",
    "    num_data = len(data)\n",
    "    num = num_data // 10\n",
    "    test_bool = np.array([False] * num_data)\n",
    "    index_array = np.arange(num_data)\n",
    "    test_index = np.random.choice(index_array, num)\n",
    "    test_bool[test_index] = True\n",
    "    data['test'] = test_bool\n",
    "    data.to_csv(res_filename)\n",
    "    return data"
   ]
  },
  {
   "cell_type": "code",
   "execution_count": 284,
   "metadata": {},
   "outputs": [],
   "source": [
    "class Dataset(data.Dataset):\n",
    "    \"\"\"\n",
    "\n",
    "    \"\"\"\n",
    "\n",
    "    def __init__(self,\n",
    "                root,\n",
    "                data_frame,\n",
    "                input_length, \n",
    "                label_dct,\n",
    "                data_loader=data_loader):\n",
    "        self.root = Path(root)\n",
    "        self.input_length = input_length\n",
    "        self.__raw_data = data_frame\n",
    "        self.label_dct = label_dct\n",
    "        self.data_loader = data_loader\n",
    "    \n",
    "    @property\n",
    "    @lru_cache(maxsize=None)\n",
    "    def filenames(self):\n",
    "        return self.__raw_data.fname\n",
    "\n",
    "    def __len__(self):\n",
    "        \"\"\"\n",
    "\n",
    "        :return:\n",
    "        \"\"\"\n",
    "        return self.__raw_data.shape[0]\n",
    "\n",
    "    def __getitem__(self, index):\n",
    "        \"\"\"\n",
    "\n",
    "        :param index:\n",
    "        :return:\n",
    "        \"\"\"\n",
    "        \n",
    "        record = self.__raw_data.loc[index]\n",
    "        name = record.fname\n",
    "        file_name = self.root / name\n",
    "        label_name = record.label\n",
    "        data = self.data_loader(file_name, self.input_length)\n",
    "        label = self.label_dct[label_name]\n",
    "        return data, torch.tensor(label, dtype=torch.uint8)"
   ]
  },
  {
   "cell_type": "code",
   "execution_count": 285,
   "metadata": {},
   "outputs": [],
   "source": [
    "root = Path('C:/Datasets/FSDKaggle2018.audio_train')\n",
    "train_fname = Path('C:/Datasets/FSDKaggle2018.meta/train_post_competition.csv')"
   ]
  },
  {
   "cell_type": "code",
   "execution_count": 286,
   "metadata": {},
   "outputs": [],
   "source": [
    "labels, label_dct = get_dataset_meta(train_fname)"
   ]
  },
  {
   "cell_type": "code",
   "execution_count": 287,
   "metadata": {},
   "outputs": [
    {
     "name": "stderr",
     "output_type": "stream",
     "text": [
      "2019-06-20 11:19:04.173 | INFO     | __main__:get_test_data:7 - Reading from C:\\Datasets\\FSDKaggle2018.meta\\train_validate.csv\n"
     ]
    }
   ],
   "source": [
    "full_df = get_test_data(train_fname)"
   ]
  },
  {
   "cell_type": "code",
   "execution_count": 306,
   "metadata": {},
   "outputs": [],
   "source": [
    "train_df = full_df[full_df.test == False]\n",
    "train_df.index = range(len(train_df))"
   ]
  },
  {
   "cell_type": "code",
   "execution_count": 308,
   "metadata": {},
   "outputs": [],
   "source": [
    "test_df = full_df[full_df.test == True]\n",
    "test_df.index = range(len(test_df))"
   ]
  },
  {
   "cell_type": "code",
   "execution_count": 309,
   "metadata": {},
   "outputs": [],
   "source": [
    "train_dataset = Dataset(root, train_df, input_length=2 * 44100, label_dct=label_dct)"
   ]
  },
  {
   "cell_type": "code",
   "execution_count": 310,
   "metadata": {},
   "outputs": [],
   "source": [
    "test_dataset =  Dataset(root, test_df, input_length=2 * 44100, label_dct=label_dct)"
   ]
  },
  {
   "cell_type": "code",
   "execution_count": 311,
   "metadata": {},
   "outputs": [],
   "source": [
    "batch_size = len(train_dataset)"
   ]
  },
  {
   "cell_type": "code",
   "execution_count": 312,
   "metadata": {},
   "outputs": [],
   "source": [
    "# size_list = [train_dataset[i][0].shape for i in range(len(train_dataset))]"
   ]
  },
  {
   "cell_type": "code",
   "execution_count": 313,
   "metadata": {},
   "outputs": [],
   "source": [
    "train_data_iter = data.DataLoader(train_dataset, batch_size=len(train_dataset))"
   ]
  },
  {
   "cell_type": "code",
   "execution_count": 314,
   "metadata": {},
   "outputs": [],
   "source": [
    "def get_data():\n",
    "    for dt, label in train_data_iter:\n",
    "        return dt.numpy(), label.numpy()"
   ]
  },
  {
   "cell_type": "code",
   "execution_count": 318,
   "metadata": {},
   "outputs": [],
   "source": [
    "train_dt, train_label = get_data()"
   ]
  },
  {
   "cell_type": "code",
   "execution_count": 207,
   "metadata": {},
   "outputs": [],
   "source": [
    "import lightgbm as lgb"
   ]
  },
  {
   "cell_type": "code",
   "execution_count": 319,
   "metadata": {},
   "outputs": [],
   "source": [
    "w = np.random.rand(500, )\n",
    "train_data = lgb.Dataset(train_dt, label=train_label, weight=w)"
   ]
  },
  {
   "cell_type": "code",
   "execution_count": 320,
   "metadata": {},
   "outputs": [],
   "source": [
    "param = {'num_leaves': 31, 'objective': 'multiclass'}\n",
    "param['metric'] = 'multi_logloss'"
   ]
  },
  {
   "cell_type": "code",
   "execution_count": null,
   "metadata": {},
   "outputs": [],
   "source": [
    "num_round = 10\n",
    "bst = lgb.train(param, train_data, num_round)"
   ]
  },
  {
   "cell_type": "code",
   "execution_count": null,
   "metadata": {},
   "outputs": [],
   "source": []
  }
 ],
 "metadata": {
  "kernelspec": {
   "display_name": "Python [conda env:torch]",
   "language": "python",
   "name": "conda-env-torch-py"
  },
  "language_info": {
   "codemirror_mode": {
    "name": "ipython",
    "version": 3
   },
   "file_extension": ".py",
   "mimetype": "text/x-python",
   "name": "python",
   "nbconvert_exporter": "python",
   "pygments_lexer": "ipython3",
   "version": "3.7.3"
  }
 },
 "nbformat": 4,
 "nbformat_minor": 2
}
