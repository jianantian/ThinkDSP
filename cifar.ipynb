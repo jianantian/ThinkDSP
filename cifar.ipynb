{
 "cells": [
  {
   "cell_type": "code",
   "execution_count": 2,
   "metadata": {},
   "outputs": [],
   "source": [
    "import torch"
   ]
  },
  {
   "cell_type": "code",
   "execution_count": 3,
   "metadata": {},
   "outputs": [],
   "source": [
    "from torch import nn, optim"
   ]
  },
  {
   "cell_type": "code",
   "execution_count": 4,
   "metadata": {},
   "outputs": [],
   "source": [
    "from torch.utils import data"
   ]
  },
  {
   "cell_type": "code",
   "execution_count": 5,
   "metadata": {},
   "outputs": [],
   "source": [
    "from loguru import logger"
   ]
  },
  {
   "cell_type": "code",
   "execution_count": 6,
   "metadata": {},
   "outputs": [],
   "source": [
    "import visualize"
   ]
  },
  {
   "cell_type": "code",
   "execution_count": 7,
   "metadata": {},
   "outputs": [],
   "source": [
    "import numpy as np"
   ]
  },
  {
   "cell_type": "code",
   "execution_count": 8,
   "metadata": {},
   "outputs": [],
   "source": [
    "import time"
   ]
  },
  {
   "cell_type": "code",
   "execution_count": 9,
   "metadata": {},
   "outputs": [],
   "source": [
    "import torchvision\n",
    "import torchvision.transforms"
   ]
  },
  {
   "cell_type": "code",
   "execution_count": 10,
   "metadata": {},
   "outputs": [],
   "source": [
    "import math"
   ]
  },
  {
   "cell_type": "code",
   "execution_count": 11,
   "metadata": {},
   "outputs": [],
   "source": [
    "import base, resnet"
   ]
  },
  {
   "cell_type": "code",
   "execution_count": 12,
   "metadata": {},
   "outputs": [],
   "source": [
    "root = '/data/CIFAR10'"
   ]
  },
  {
   "cell_type": "code",
   "execution_count": 13,
   "metadata": {},
   "outputs": [],
   "source": [
    "classes = ('plane', 'car', 'bird', 'cat', 'deer', 'dog', 'frog', 'horse', 'ship', 'truck')"
   ]
  },
  {
   "cell_type": "code",
   "execution_count": 14,
   "metadata": {},
   "outputs": [],
   "source": [
    "train_transform = torchvision.transforms.Compose(\n",
    "    [torchvision.transforms.ColorJitter(brightness=0.2, contrast=0.2, saturation=0.2, hue=0.2),\n",
    "     torchvision.transforms.RandomRotation(10),\n",
    "     torchvision.transforms.RandomHorizontalFlip(),\n",
    "#     torchvision.transforms.RandomCrop(size=[32,32], padding=4, pad_if_needed=True),\n",
    "    torchvision.transforms.ToTensor(),\n",
    "     torchvision.transforms.Normalize((0.49140089750289917, 0.4821591377258301, 0.4465310275554657),\n",
    "                                      (0.24702748656272888, 0.24348321557044983, 0.26158758997917175))\n",
    "    ])"
   ]
  },
  {
   "cell_type": "code",
   "execution_count": 15,
   "metadata": {},
   "outputs": [],
   "source": [
    "test_transform = torchvision.transforms.Compose(\n",
    "    \n",
    "    [torchvision.transforms.ToTensor(),\n",
    "     torchvision.transforms.Normalize((0.49140089750289917, 0.4821591377258301, 0.4465310275554657),\n",
    "                                      (0.24702748656272888, 0.24348321557044983, 0.26158758997917175))\n",
    "    ])"
   ]
  },
  {
   "cell_type": "code",
   "execution_count": 16,
   "metadata": {},
   "outputs": [
    {
     "name": "stdout",
     "output_type": "stream",
     "text": [
      "Files already downloaded and verified\n"
     ]
    }
   ],
   "source": [
    "train_dataset = torchvision.datasets.CIFAR10(root, transform=train_transform, download=True)"
   ]
  },
  {
   "cell_type": "code",
   "execution_count": 17,
   "metadata": {},
   "outputs": [
    {
     "name": "stdout",
     "output_type": "stream",
     "text": [
      "Files already downloaded and verified\n"
     ]
    }
   ],
   "source": [
    "test_dataset = torchvision.datasets.CIFAR10(root, train=False, transform=test_transform, download=True)"
   ]
  },
  {
   "cell_type": "code",
   "execution_count": 18,
   "metadata": {},
   "outputs": [],
   "source": [
    "train_dt, valid_dt = data.random_split(train_dataset, (40000, 10000))"
   ]
  },
  {
   "cell_type": "code",
   "execution_count": 19,
   "metadata": {},
   "outputs": [
    {
     "name": "stderr",
     "output_type": "stream",
     "text": [
      "2019-07-17 17:41:59.826 | DEBUG    | resnet:get_residual_unit:158 - in_channels: 16, out_channels: 16, stride: 1\n",
      "2019-07-17 17:41:59.827 | DEBUG    | resnet:get_residual_unit:158 - in_channels: 16, out_channels: 16, stride: 1\n",
      "2019-07-17 17:41:59.828 | DEBUG    | resnet:get_residual_unit:158 - in_channels: 16, out_channels: 16, stride: 1\n",
      "2019-07-17 17:41:59.829 | DEBUG    | resnet:get_residual_unit:158 - in_channels: 16, out_channels: 16, stride: 1\n",
      "2019-07-17 17:41:59.830 | DEBUG    | resnet:get_residual_unit:158 - in_channels: 16, out_channels: 16, stride: 1\n",
      "2019-07-17 17:41:59.831 | DEBUG    | resnet:get_residual_unit:158 - in_channels: 16, out_channels: 16, stride: 1\n",
      "2019-07-17 17:41:59.832 | DEBUG    | resnet:get_residual_unit:158 - in_channels: 16, out_channels: 16, stride: 1\n",
      "2019-07-17 17:41:59.833 | DEBUG    | resnet:get_residual_unit:158 - in_channels: 16, out_channels: 16, stride: 1\n",
      "2019-07-17 17:41:59.834 | DEBUG    | resnet:get_residual_unit:158 - in_channels: 16, out_channels: 16, stride: 1\n",
      "2019-07-17 17:41:59.835 | DEBUG    | resnet:get_residual_unit:158 - in_channels: 16, out_channels: 32, stride: 2\n",
      "2019-07-17 17:41:59.836 | DEBUG    | resnet:get_residual_unit:158 - in_channels: 32, out_channels: 32, stride: 1\n",
      "2019-07-17 17:41:59.837 | DEBUG    | resnet:get_residual_unit:158 - in_channels: 32, out_channels: 32, stride: 1\n",
      "2019-07-17 17:41:59.838 | DEBUG    | resnet:get_residual_unit:158 - in_channels: 32, out_channels: 32, stride: 1\n",
      "2019-07-17 17:41:59.839 | DEBUG    | resnet:get_residual_unit:158 - in_channels: 32, out_channels: 32, stride: 1\n",
      "2019-07-17 17:41:59.840 | DEBUG    | resnet:get_residual_unit:158 - in_channels: 32, out_channels: 32, stride: 1\n",
      "2019-07-17 17:41:59.841 | DEBUG    | resnet:get_residual_unit:158 - in_channels: 32, out_channels: 32, stride: 1\n",
      "2019-07-17 17:41:59.842 | DEBUG    | resnet:get_residual_unit:158 - in_channels: 32, out_channels: 32, stride: 1\n",
      "2019-07-17 17:41:59.843 | DEBUG    | resnet:get_residual_unit:158 - in_channels: 32, out_channels: 32, stride: 1\n",
      "2019-07-17 17:41:59.844 | DEBUG    | resnet:get_residual_unit:158 - in_channels: 32, out_channels: 64, stride: 2\n",
      "2019-07-17 17:41:59.846 | DEBUG    | resnet:get_residual_unit:158 - in_channels: 64, out_channels: 64, stride: 1\n",
      "2019-07-17 17:41:59.847 | DEBUG    | resnet:get_residual_unit:158 - in_channels: 64, out_channels: 64, stride: 1\n",
      "2019-07-17 17:41:59.849 | DEBUG    | resnet:get_residual_unit:158 - in_channels: 64, out_channels: 64, stride: 1\n",
      "2019-07-17 17:41:59.850 | DEBUG    | resnet:get_residual_unit:158 - in_channels: 64, out_channels: 64, stride: 1\n",
      "2019-07-17 17:41:59.851 | DEBUG    | resnet:get_residual_unit:158 - in_channels: 64, out_channels: 64, stride: 1\n",
      "2019-07-17 17:41:59.853 | DEBUG    | resnet:get_residual_unit:158 - in_channels: 64, out_channels: 64, stride: 1\n",
      "2019-07-17 17:41:59.854 | DEBUG    | resnet:get_residual_unit:158 - in_channels: 64, out_channels: 64, stride: 1\n",
      "2019-07-17 17:41:59.855 | DEBUG    | resnet:get_residual_unit:158 - in_channels: 64, out_channels: 64, stride: 1\n"
     ]
    }
   ],
   "source": [
    "net = resnet.ResNet56()"
   ]
  },
  {
   "cell_type": "code",
   "execution_count": 20,
   "metadata": {},
   "outputs": [],
   "source": [
    "def learning_rate_schedules(batch_num, initial_lr, warmup_batchs, total_batchs):\n",
    "    \"\"\"\n",
    "    \"\"\"\n",
    "    if batch_num < warmup_batchs:\n",
    "        lr = initial_lr * (batch_num+1)/warmup_batchs\n",
    "    else:\n",
    "        num = batch_num - warmup_batchs + 1\n",
    "        lr = 0.5 * (1 + math.cos(math.pi * (num / total_batchs))) * initial_lr\n",
    "    return lr"
   ]
  },
  {
   "cell_type": "code",
   "execution_count": 21,
   "metadata": {},
   "outputs": [],
   "source": [
    "batch_size = 2048"
   ]
  },
  {
   "cell_type": "code",
   "execution_count": 22,
   "metadata": {},
   "outputs": [],
   "source": [
    "epoch = 200"
   ]
  },
  {
   "cell_type": "code",
   "execution_count": 23,
   "metadata": {},
   "outputs": [],
   "source": [
    "use_cuda = net.use_cuda"
   ]
  },
  {
   "cell_type": "code",
   "execution_count": 24,
   "metadata": {},
   "outputs": [],
   "source": [
    "if use_cuda:\n",
    "    net = net.cuda()"
   ]
  },
  {
   "cell_type": "code",
   "execution_count": 25,
   "metadata": {},
   "outputs": [],
   "source": [
    "use_cuda = net.use_cuda"
   ]
  },
  {
   "cell_type": "code",
   "execution_count": 26,
   "metadata": {},
   "outputs": [
    {
     "name": "stderr",
     "output_type": "stream",
     "text": [
      "WARNING:root:Setting up a new session...\n"
     ]
    }
   ],
   "source": [
    "visualizer = visualize.Visualizer('Net_sgd')"
   ]
  },
  {
   "cell_type": "code",
   "execution_count": 27,
   "metadata": {},
   "outputs": [],
   "source": [
    "learning_rate = 0.1"
   ]
  },
  {
   "cell_type": "code",
   "execution_count": 28,
   "metadata": {},
   "outputs": [],
   "source": [
    "# optimizer = optim.Adam(net.parameters(), lr=learning_rate)\n",
    "optimizer = optim.SGD(net.parameters(), lr=learning_rate, momentum=0.9)"
   ]
  },
  {
   "cell_type": "code",
   "execution_count": 29,
   "metadata": {},
   "outputs": [],
   "source": [
    "total_batch_num = (int(40000 / batch_size) + 1) * epoch"
   ]
  },
  {
   "cell_type": "code",
   "execution_count": 30,
   "metadata": {},
   "outputs": [
    {
     "data": {
      "text/plain": [
       "1"
      ]
     },
     "execution_count": 30,
     "metadata": {},
     "output_type": "execute_result"
    }
   ],
   "source": [
    "logger.add('resnet_56_sgd_0.log')"
   ]
  },
  {
   "cell_type": "code",
   "execution_count": 32,
   "metadata": {},
   "outputs": [
    {
     "name": "stderr",
     "output_type": "stream",
     "text": [
      "2019-07-17 18:16:58.295 | INFO     | __main__:<module>:33 - epoch num: 0, loss: 27.65863811969757, val_precision: 0.49361997842788696, test_precision: 0.5112999677658081, learning_rate: 0.1, time: 74.74558687210083\n",
      "2019-07-17 18:18:13.136 | INFO     | __main__:<module>:33 - epoch num: 1, loss: 27.382885336875916, val_precision: 0.49528002738952637, test_precision: 0.5043999552726746, learning_rate: 0.1, time: 74.78244256973267\n",
      "2019-07-17 18:19:27.929 | INFO     | __main__:<module>:33 - epoch num: 2, loss: 27.280449986457825, val_precision: 0.5008599758148193, test_precision: 0.520799994468689, learning_rate: 0.1, time: 74.73498725891113\n",
      "2019-07-17 18:20:42.635 | INFO     | __main__:<module>:33 - epoch num: 3, loss: 27.069687724113464, val_precision: 0.5037800073623657, test_precision: 0.5190999507904053, learning_rate: 0.1, time: 74.64627313613892\n",
      "2019-07-17 18:21:57.327 | INFO     | __main__:<module>:33 - epoch num: 4, loss: 26.60028374195099, val_precision: 0.5061400532722473, test_precision: 0.5247000455856323, learning_rate: 0.1, time: 74.63434672355652\n",
      "2019-07-17 18:23:12.033 | INFO     | __main__:<module>:33 - epoch num: 5, loss: 26.327097415924072, val_precision: 0.5126799941062927, test_precision: 0.5208999514579773, learning_rate: 0.1, time: 74.6468768119812\n",
      "2019-07-17 18:24:26.867 | INFO     | __main__:<module>:33 - epoch num: 6, loss: 26.046424388885498, val_precision: 0.5095800161361694, test_precision: 0.5205999612808228, learning_rate: 0.1, time: 74.77457928657532\n",
      "2019-07-17 18:25:41.630 | INFO     | __main__:<module>:33 - epoch num: 7, loss: 25.819646954536438, val_precision: 0.5126799941062927, test_precision: 0.5340999364852905, learning_rate: 0.1, time: 74.70598006248474\n",
      "2019-07-17 18:26:56.612 | INFO     | __main__:<module>:33 - epoch num: 8, loss: 25.69229507446289, val_precision: 0.5280399918556213, test_precision: 0.5418999791145325, learning_rate: 0.1, time: 74.92396426200867\n",
      "2019-07-17 18:28:11.512 | INFO     | __main__:<module>:33 - epoch num: 9, loss: 25.519253849983215, val_precision: 0.5362600088119507, test_precision: 0.5478999614715576, learning_rate: 0.1, time: 74.84070467948914\n",
      "2019-07-17 18:29:26.289 | INFO     | __main__:<module>:33 - epoch num: 10, loss: 25.145080089569092, val_precision: 0.5214000344276428, test_precision: 0.5379999876022339, learning_rate: 0.1, time: 74.71801233291626\n",
      "2019-07-17 18:30:41.189 | INFO     | __main__:<module>:33 - epoch num: 11, loss: 24.960020184516907, val_precision: 0.5313800573348999, test_precision: 0.5405000448226929, learning_rate: 0.1, time: 74.84249067306519\n",
      "2019-07-17 18:31:55.909 | INFO     | __main__:<module>:33 - epoch num: 12, loss: 24.696518540382385, val_precision: 0.5263000130653381, test_precision: 0.5467000007629395, learning_rate: 0.1, time: 74.6622633934021\n",
      "2019-07-17 18:33:10.590 | INFO     | __main__:<module>:33 - epoch num: 13, loss: 24.395339488983154, val_precision: 0.5236800312995911, test_precision: 0.5305999517440796, learning_rate: 0.1, time: 74.62267541885376\n",
      "2019-07-17 18:34:25.346 | INFO     | __main__:<module>:33 - epoch num: 14, loss: 24.23644995689392, val_precision: 0.5495399832725525, test_precision: 0.5673999786376953, learning_rate: 0.1, time: 74.69801378250122\n",
      "2019-07-17 18:35:40.202 | INFO     | __main__:<module>:33 - epoch num: 15, loss: 24.061765789985657, val_precision: 0.5416399836540222, test_precision: 0.5575000047683716, learning_rate: 0.1, time: 74.79791355133057\n",
      "2019-07-17 18:36:54.937 | INFO     | __main__:<module>:33 - epoch num: 16, loss: 23.872395753860474, val_precision: 0.508359968662262, test_precision: 0.5351999998092651, learning_rate: 0.1, time: 74.67629432678223\n",
      "2019-07-17 18:38:09.529 | INFO     | __main__:<module>:33 - epoch num: 17, loss: 23.625807762145996, val_precision: 0.5462599992752075, test_precision: 0.5526000261306763, learning_rate: 0.1, time: 74.5329737663269\n",
      "2019-07-17 18:39:24.349 | INFO     | __main__:<module>:33 - epoch num: 18, loss: 23.303904056549072, val_precision: 0.5534600019454956, test_precision: 0.5665000081062317, learning_rate: 0.1, time: 74.7620062828064\n",
      "2019-07-17 18:40:39.096 | INFO     | __main__:<module>:33 - epoch num: 19, loss: 23.222593784332275, val_precision: 0.5712000131607056, test_precision: 0.5838000178337097, learning_rate: 0.1, time: 74.68968319892883\n",
      "2019-07-17 18:41:53.856 | INFO     | __main__:<module>:33 - epoch num: 20, loss: 23.101324677467346, val_precision: 0.5698000192642212, test_precision: 0.5884000062942505, learning_rate: 0.01, time: 74.70238709449768\n",
      "2019-07-17 18:43:08.490 | INFO     | __main__:<module>:33 - epoch num: 21, loss: 22.601317405700684, val_precision: 0.5944200158119202, test_precision: 0.602899968624115, learning_rate: 0.01, time: 74.57753777503967\n",
      "2019-07-17 18:44:23.105 | INFO     | __main__:<module>:33 - epoch num: 22, loss: 22.35784161090851, val_precision: 0.5991400480270386, test_precision: 0.6069999933242798, learning_rate: 0.01, time: 74.55764961242676\n",
      "2019-07-17 18:45:37.846 | INFO     | __main__:<module>:33 - epoch num: 23, loss: 22.144465684890747, val_precision: 0.5988799333572388, test_precision: 0.6062999963760376, learning_rate: 0.01, time: 74.68400979042053\n",
      "2019-07-17 18:46:52.602 | INFO     | __main__:<module>:33 - epoch num: 24, loss: 22.226622700691223, val_precision: 0.6028800010681152, test_precision: 0.6108999848365784, learning_rate: 0.01, time: 74.6980562210083\n",
      "2019-07-17 18:48:07.249 | INFO     | __main__:<module>:33 - epoch num: 25, loss: 22.244277596473694, val_precision: 0.6052199602127075, test_precision: 0.6088999509811401, learning_rate: 0.01, time: 74.58942317962646\n",
      "2019-07-17 18:49:22.125 | INFO     | __main__:<module>:33 - epoch num: 26, loss: 22.17497169971466, val_precision: 0.6017800569534302, test_precision: 0.6068999767303467, learning_rate: 0.01, time: 74.81851172447205\n",
      "2019-07-17 18:50:36.918 | INFO     | __main__:<module>:33 - epoch num: 27, loss: 22.07502853870392, val_precision: 0.6050400137901306, test_precision: 0.6108999848365784, learning_rate: 0.01, time: 74.73511791229248\n",
      "2019-07-17 18:51:51.860 | INFO     | __main__:<module>:33 - epoch num: 28, loss: 21.99996066093445, val_precision: 0.6046200394630432, test_precision: 0.6122000217437744, learning_rate: 0.01, time: 74.8845329284668\n",
      "2019-07-17 18:53:06.654 | INFO     | __main__:<module>:33 - epoch num: 29, loss: 22.185943126678467, val_precision: 0.6051599979400635, test_precision: 0.6107000112533569, learning_rate: 0.01, time: 74.7307653427124\n",
      "2019-07-17 18:54:21.313 | INFO     | __main__:<module>:33 - epoch num: 30, loss: 22.107068300247192, val_precision: 0.60725998878479, test_precision: 0.6121999621391296, learning_rate: 0.01, time: 74.60135817527771\n",
      "2019-07-17 18:55:36.069 | INFO     | __main__:<module>:33 - epoch num: 31, loss: 22.04511535167694, val_precision: 0.604979932308197, test_precision: 0.6150000095367432, learning_rate: 0.01, time: 74.6945960521698\n",
      "2019-07-17 18:56:50.801 | INFO     | __main__:<module>:33 - epoch num: 32, loss: 21.865167260169983, val_precision: 0.6079200506210327, test_precision: 0.619100034236908, learning_rate: 0.01, time: 74.67274236679077\n",
      "2019-07-17 18:58:05.446 | INFO     | __main__:<module>:33 - epoch num: 33, loss: 21.934823274612427, val_precision: 0.6073200106620789, test_precision: 0.6139000654220581, learning_rate: 0.01, time: 74.58689856529236\n",
      "2019-07-17 18:59:20.095 | INFO     | __main__:<module>:33 - epoch num: 34, loss: 21.940757393836975, val_precision: 0.6025800704956055, test_precision: 0.6137999296188354, learning_rate: 0.01, time: 74.59223055839539\n",
      "2019-07-17 19:00:34.761 | INFO     | __main__:<module>:33 - epoch num: 35, loss: 21.74503529071808, val_precision: 0.6059600114822388, test_precision: 0.6162999868392944, learning_rate: 0.01, time: 74.6074571609497\n",
      "2019-07-17 19:01:49.366 | INFO     | __main__:<module>:33 - epoch num: 36, loss: 21.760775566101074, val_precision: 0.6096600294113159, test_precision: 0.6226999759674072, learning_rate: 0.01, time: 74.54745626449585\n",
      "2019-07-17 19:03:04.224 | INFO     | __main__:<module>:33 - epoch num: 37, loss: 21.747668385505676, val_precision: 0.6093000173568726, test_precision: 0.613800048828125, learning_rate: 0.01, time: 74.80119204521179\n",
      "2019-07-17 19:04:18.923 | INFO     | __main__:<module>:33 - epoch num: 38, loss: 21.745280504226685, val_precision: 0.608780026435852, test_precision: 0.6202999949455261, learning_rate: 0.01, time: 74.6403546333313\n",
      "2019-07-17 19:05:33.685 | INFO     | __main__:<module>:33 - epoch num: 39, loss: 21.723012685775757, val_precision: 0.6061800122261047, test_precision: 0.6181000471115112, learning_rate: 0.01, time: 74.70454597473145\n",
      "2019-07-17 19:06:48.508 | INFO     | __main__:<module>:33 - epoch num: 40, loss: 21.683039784431458, val_precision: 0.6097399592399597, test_precision: 0.6165000200271606, learning_rate: 0.01, time: 74.75661659240723\n",
      "2019-07-17 19:08:03.068 | INFO     | __main__:<module>:33 - epoch num: 41, loss: 21.70549166202545, val_precision: 0.6137599945068359, test_precision: 0.6201000213623047, learning_rate: 0.01, time: 74.50115752220154\n",
      "2019-07-17 19:09:17.794 | INFO     | __main__:<module>:33 - epoch num: 42, loss: 21.669028162956238, val_precision: 0.6122199296951294, test_precision: 0.6211000680923462, learning_rate: 0.01, time: 74.66763401031494\n",
      "2019-07-17 19:10:32.347 | INFO     | __main__:<module>:33 - epoch num: 43, loss: 21.556538581848145, val_precision: 0.6115800142288208, test_precision: 0.6229999661445618, learning_rate: 0.01, time: 74.49488353729248\n",
      "2019-07-17 19:11:46.969 | INFO     | __main__:<module>:33 - epoch num: 44, loss: 21.556467533111572, val_precision: 0.6141400337219238, test_precision: 0.6209999918937683, learning_rate: 0.01, time: 74.56438064575195\n",
      "2019-07-17 19:13:01.783 | INFO     | __main__:<module>:33 - epoch num: 45, loss: 21.558372616767883, val_precision: 0.6136400103569031, test_precision: 0.6216000318527222, learning_rate: 0.01, time: 74.75562453269958\n",
      "2019-07-17 19:14:16.483 | INFO     | __main__:<module>:33 - epoch num: 46, loss: 21.571704864501953, val_precision: 0.612820029258728, test_precision: 0.6194999814033508, learning_rate: 0.01, time: 74.64283394813538\n",
      "2019-07-17 19:15:31.103 | INFO     | __main__:<module>:33 - epoch num: 47, loss: 21.632274746894836, val_precision: 0.6155799627304077, test_precision: 0.6243999600410461, learning_rate: 0.01, time: 74.56202173233032\n",
      "2019-07-17 19:16:45.752 | INFO     | __main__:<module>:33 - epoch num: 48, loss: 21.447872757911682, val_precision: 0.6143600344657898, test_precision: 0.6212999820709229, learning_rate: 0.01, time: 74.58549809455872\n",
      "2019-07-17 19:18:00.530 | INFO     | __main__:<module>:33 - epoch num: 49, loss: 21.430528044700623, val_precision: 0.6151000261306763, test_precision: 0.6233999729156494, learning_rate: 0.01, time: 74.71901035308838\n",
      "2019-07-17 19:19:15.308 | INFO     | __main__:<module>:33 - epoch num: 50, loss: 21.42833960056305, val_precision: 0.616860032081604, test_precision: 0.6234999895095825, learning_rate: 0.01, time: 74.72076940536499\n",
      "2019-07-17 19:20:30.240 | INFO     | __main__:<module>:33 - epoch num: 51, loss: 21.351840615272522, val_precision: 0.6181401014328003, test_precision: 0.6204000115394592, learning_rate: 0.01, time: 74.87341141700745\n",
      "2019-07-17 19:21:44.970 | INFO     | __main__:<module>:33 - epoch num: 52, loss: 21.456746578216553, val_precision: 0.6165599226951599, test_precision: 0.6239999532699585, learning_rate: 0.01, time: 74.67183566093445\n",
      "2019-07-17 19:22:59.670 | INFO     | __main__:<module>:33 - epoch num: 53, loss: 21.367488861083984, val_precision: 0.6179999709129333, test_precision: 0.6260000467300415, learning_rate: 0.01, time: 74.63928747177124\n",
      "2019-07-17 19:24:14.441 | INFO     | __main__:<module>:33 - epoch num: 54, loss: 21.439467906951904, val_precision: 0.6191800236701965, test_precision: 0.6261000037193298, learning_rate: 0.01, time: 74.71219277381897\n",
      "2019-07-17 19:25:29.268 | INFO     | __main__:<module>:33 - epoch num: 55, loss: 21.349557042121887, val_precision: 0.6166399717330933, test_precision: 0.6259999871253967, learning_rate: 0.01, time: 74.76820969581604\n",
      "2019-07-17 19:26:44.004 | INFO     | __main__:<module>:33 - epoch num: 56, loss: 21.423619866371155, val_precision: 0.6181600093841553, test_precision: 0.6232000589370728, learning_rate: 0.01, time: 74.67745280265808\n",
      "2019-07-17 19:27:58.779 | INFO     | __main__:<module>:33 - epoch num: 57, loss: 21.200160264968872, val_precision: 0.6149400472640991, test_precision: 0.6269000172615051, learning_rate: 0.01, time: 74.71700096130371\n",
      "2019-07-17 19:29:13.598 | INFO     | __main__:<module>:33 - epoch num: 58, loss: 21.17945146560669, val_precision: 0.6167399883270264, test_precision: 0.6239000558853149, learning_rate: 0.01, time: 74.75977301597595\n",
      "2019-07-17 19:30:28.553 | INFO     | __main__:<module>:33 - epoch num: 59, loss: 21.191495776176453, val_precision: 0.6184599995613098, test_precision: 0.6222000122070312, learning_rate: 0.01, time: 74.89658212661743\n",
      "2019-07-17 19:31:43.298 | INFO     | __main__:<module>:33 - epoch num: 60, loss: 21.206425428390503, val_precision: 0.619379997253418, test_precision: 0.6298999786376953, learning_rate: 0.01, time: 74.68622779846191\n",
      "2019-07-17 19:32:58.016 | INFO     | __main__:<module>:33 - epoch num: 61, loss: 21.153615713119507, val_precision: 0.6228799819946289, test_precision: 0.6315000057220459, learning_rate: 0.01, time: 74.65915656089783\n",
      "2019-07-17 19:34:12.783 | INFO     | __main__:<module>:33 - epoch num: 62, loss: 21.018775284290314, val_precision: 0.6196399927139282, test_precision: 0.6299999952316284, learning_rate: 0.01, time: 74.70913624763489\n",
      "2019-07-17 19:35:27.582 | INFO     | __main__:<module>:33 - epoch num: 63, loss: 21.187352180480957, val_precision: 0.6209799647331238, test_precision: 0.6260000467300415, learning_rate: 0.01, time: 74.74006080627441\n",
      "2019-07-17 19:36:42.473 | INFO     | __main__:<module>:33 - epoch num: 64, loss: 20.92575252056122, val_precision: 0.6166999936103821, test_precision: 0.6194999814033508, learning_rate: 0.01, time: 74.83377194404602\n",
      "2019-07-17 19:37:57.190 | INFO     | __main__:<module>:33 - epoch num: 65, loss: 20.935091972351074, val_precision: 0.626479983329773, test_precision: 0.6315999627113342, learning_rate: 0.01, time: 74.6585419178009\n",
      "2019-07-17 19:39:12.008 | INFO     | __main__:<module>:33 - epoch num: 66, loss: 20.94890034198761, val_precision: 0.6253799796104431, test_precision: 0.6330000162124634, learning_rate: 0.01, time: 74.75974464416504\n",
      "2019-07-17 19:40:26.930 | INFO     | __main__:<module>:33 - epoch num: 67, loss: 20.943520545959473, val_precision: 0.6241999864578247, test_precision: 0.6301999688148499, learning_rate: 0.01, time: 74.863356590271\n",
      "2019-07-17 19:41:41.773 | INFO     | __main__:<module>:33 - epoch num: 68, loss: 20.854812145233154, val_precision: 0.6273800134658813, test_precision: 0.6327000856399536, learning_rate: 0.01, time: 74.78547596931458\n",
      "2019-07-17 19:42:56.486 | INFO     | __main__:<module>:33 - epoch num: 69, loss: 20.908328235149384, val_precision: 0.6274600625038147, test_precision: 0.6326000094413757, learning_rate: 0.01, time: 74.65487933158875\n",
      "2019-07-17 19:44:11.445 | INFO     | __main__:<module>:33 - epoch num: 70, loss: 20.81644332408905, val_precision: 0.6252599954605103, test_precision: 0.6354999542236328, learning_rate: 0.01, time: 74.90171337127686\n",
      "2019-07-17 19:45:26.252 | INFO     | __main__:<module>:33 - epoch num: 71, loss: 20.74337875843048, val_precision: 0.628779947757721, test_precision: 0.6351000070571899, learning_rate: 0.01, time: 74.74777412414551\n",
      "2019-07-17 19:46:41.173 | INFO     | __main__:<module>:33 - epoch num: 72, loss: 20.789581894874573, val_precision: 0.6257399916648865, test_precision: 0.6310999989509583, learning_rate: 0.01, time: 74.86277770996094\n",
      "2019-07-17 19:47:55.944 | INFO     | __main__:<module>:33 - epoch num: 73, loss: 20.79789972305298, val_precision: 0.6291600465774536, test_precision: 0.6363000273704529, learning_rate: 0.01, time: 74.72024655342102\n",
      "2019-07-17 19:49:10.688 | INFO     | __main__:<module>:33 - epoch num: 74, loss: 20.64069414138794, val_precision: 0.6304799914360046, test_precision: 0.6384999752044678, learning_rate: 0.01, time: 74.68517923355103\n",
      "2019-07-17 19:50:25.575 | INFO     | __main__:<module>:33 - epoch num: 75, loss: 20.70074760913849, val_precision: 0.630139946937561, test_precision: 0.6378000378608704, learning_rate: 0.01, time: 74.82774758338928\n",
      "2019-07-17 19:51:40.467 | INFO     | __main__:<module>:33 - epoch num: 76, loss: 20.65139478445053, val_precision: 0.6280999779701233, test_precision: 0.6352999806404114, learning_rate: 0.01, time: 74.83499240875244\n",
      "2019-07-17 19:52:55.221 | INFO     | __main__:<module>:33 - epoch num: 77, loss: 20.657400608062744, val_precision: 0.6241999864578247, test_precision: 0.6337000131607056, learning_rate: 0.01, time: 74.69626879692078\n",
      "2019-07-17 19:54:09.870 | INFO     | __main__:<module>:33 - epoch num: 78, loss: 20.686762034893036, val_precision: 0.6297000050544739, test_precision: 0.638700008392334, learning_rate: 0.01, time: 74.59106230735779\n",
      "2019-07-17 19:55:24.544 | INFO     | __main__:<module>:33 - epoch num: 79, loss: 20.51401925086975, val_precision: 0.6272399425506592, test_precision: 0.6412000060081482, learning_rate: 0.01, time: 74.61501359939575\n",
      "2019-07-17 19:56:39.275 | INFO     | __main__:<module>:33 - epoch num: 80, loss: 20.525764763355255, val_precision: 0.6309399604797363, test_precision: 0.636400043964386, learning_rate: 0.001, time: 74.67377257347107\n",
      "2019-07-17 19:57:54.032 | INFO     | __main__:<module>:33 - epoch num: 81, loss: 20.560498297214508, val_precision: 0.6343799829483032, test_precision: 0.6415000557899475, learning_rate: 0.001, time: 74.69856786727905\n",
      "2019-07-17 19:59:08.733 | INFO     | __main__:<module>:33 - epoch num: 82, loss: 20.408244132995605, val_precision: 0.6373599767684937, test_precision: 0.6430000066757202, learning_rate: 0.001, time: 74.64254379272461\n",
      "2019-07-17 20:00:23.327 | INFO     | __main__:<module>:33 - epoch num: 83, loss: 20.30299335718155, val_precision: 0.6348999738693237, test_precision: 0.6420000195503235, learning_rate: 0.001, time: 74.5358304977417\n",
      "2019-07-17 20:01:37.974 | INFO     | __main__:<module>:33 - epoch num: 84, loss: 20.407619416713715, val_precision: 0.6348999738693237, test_precision: 0.6419000625610352, learning_rate: 0.001, time: 74.58886313438416\n",
      "2019-07-17 20:02:52.525 | INFO     | __main__:<module>:33 - epoch num: 85, loss: 20.392033874988556, val_precision: 0.6389999985694885, test_precision: 0.6406000256538391, learning_rate: 0.001, time: 74.49237775802612\n",
      "2019-07-17 20:04:07.046 | INFO     | __main__:<module>:33 - epoch num: 86, loss: 20.373761773109436, val_precision: 0.6351999640464783, test_precision: 0.6429000496864319, learning_rate: 0.001, time: 74.46268630027771\n",
      "2019-07-17 20:05:21.621 | INFO     | __main__:<module>:33 - epoch num: 87, loss: 20.375007152557373, val_precision: 0.6392000317573547, test_precision: 0.6431000232696533, learning_rate: 0.001, time: 74.51756191253662\n",
      "2019-07-17 20:06:36.256 | INFO     | __main__:<module>:33 - epoch num: 88, loss: 20.381625413894653, val_precision: 0.6363199949264526, test_precision: 0.6430000066757202, learning_rate: 0.001, time: 74.57593703269958\n",
      "2019-07-17 20:07:50.943 | INFO     | __main__:<module>:33 - epoch num: 89, loss: 20.34602326154709, val_precision: 0.6381798982620239, test_precision: 0.6444000005722046, learning_rate: 0.001, time: 74.63014769554138\n",
      "2019-07-17 20:09:05.650 | INFO     | __main__:<module>:33 - epoch num: 90, loss: 20.372636675834656, val_precision: 0.6381199955940247, test_precision: 0.6427000164985657, learning_rate: 0.001, time: 74.64843368530273\n",
      "2019-07-17 20:10:20.369 | INFO     | __main__:<module>:33 - epoch num: 91, loss: 20.360972106456757, val_precision: 0.6368800401687622, test_precision: 0.6415999531745911, learning_rate: 0.001, time: 74.6605372428894\n",
      "2019-07-17 20:11:35.087 | INFO     | __main__:<module>:33 - epoch num: 92, loss: 20.434716403484344, val_precision: 0.6383999586105347, test_precision: 0.6430999636650085, learning_rate: 0.001, time: 74.6608612537384\n",
      "2019-07-17 20:12:49.785 | INFO     | __main__:<module>:33 - epoch num: 93, loss: 20.378234207630157, val_precision: 0.6375799775123596, test_precision: 0.6435999870300293, learning_rate: 0.001, time: 74.64143776893616\n",
      "2019-07-17 20:14:04.421 | INFO     | __main__:<module>:33 - epoch num: 94, loss: 20.38114959001541, val_precision: 0.6355799436569214, test_precision: 0.6444000005722046, learning_rate: 0.001, time: 74.57797622680664\n",
      "2019-07-17 20:15:19.078 | INFO     | __main__:<module>:33 - epoch num: 95, loss: 20.416707754135132, val_precision: 0.6374600529670715, test_precision: 0.6425999402999878, learning_rate: 0.001, time: 74.59820914268494\n",
      "2019-07-17 20:16:33.665 | INFO     | __main__:<module>:33 - epoch num: 96, loss: 20.322401463985443, val_precision: 0.6383799314498901, test_precision: 0.6441999673843384, learning_rate: 0.001, time: 74.52886199951172\n",
      "2019-07-17 20:17:48.356 | INFO     | __main__:<module>:33 - epoch num: 97, loss: 20.331274330615997, val_precision: 0.6390799880027771, test_precision: 0.6450999975204468, learning_rate: 0.001, time: 74.63299655914307\n",
      "2019-07-17 20:19:03.075 | INFO     | __main__:<module>:33 - epoch num: 98, loss: 20.37346363067627, val_precision: 0.6374999284744263, test_precision: 0.6416000723838806, learning_rate: 0.001, time: 74.66003441810608\n",
      "2019-07-17 20:20:17.852 | INFO     | __main__:<module>:33 - epoch num: 99, loss: 20.334661841392517, val_precision: 0.6388199925422668, test_precision: 0.6430000066757202, learning_rate: 0.001, time: 74.71998405456543\n"
     ]
    }
   ],
   "source": [
    "batch_index = 0\n",
    "for e in range(epoch):\n",
    "    start_time = time.time()\n",
    "    net.train()\n",
    "    train_dt, valid_dt = data.random_split(train_dataset, (40000, 10000))\n",
    "    train_data_iter = data.DataLoader(train_dt, batch_size=batch_size, shuffle=True)\n",
    "    running_loss = 0.0\n",
    "    for i, (train_data, label) in enumerate(train_data_iter):\n",
    "#         lr = learning_rate_schedules(batch_index, learning_rate, 5, total_batch_num)\n",
    "#         optimizer = optim.SGD(net.parameters(), lr=lr, momentum=0.9)\n",
    "        if use_cuda:\n",
    "            train_data = train_data.cuda()\n",
    "            label = label.cuda()\n",
    "        optimizer.zero_grad()\n",
    "        prediction = net(train_data)\n",
    "        loss = net.loss(prediction, label)\n",
    "        loss.backward()\n",
    "        optimizer.step()\n",
    "        running_loss += loss.item()\n",
    "        batch_index += 1\n",
    "    if e == 20:\n",
    "        learning_rate = learning_rate / 10\n",
    "        optimizer = optim.SGD(net.parameters(), lr=learning_rate, momentum=0.9)\n",
    "    if e == 80:\n",
    "        learning_rate = learning_rate / 10\n",
    "        optimizer = optim.SGD(net.parameters(), lr=learning_rate, momentum=0.9)\n",
    "    valid_train_res, valid_ap = base.validate(net, train_dataset, batch_size, num_class=10)\n",
    "    valid_test_res, test_ap = base.validate(net, test_dataset, batch_size, num_class=10)\n",
    "    loss_dct = {'loss': running_loss}\n",
    "    val_precision = valid_train_res['map']\n",
    "    val_ap_dct = {classes[i]: v for i, v in enumerate(valid_ap)}\n",
    "    test_precision = valid_test_res['map']\n",
    "    logger.info(f'epoch num: {e}, loss: {running_loss}, val_precision: {val_precision}, test_precision: {test_precision}, learning_rate: {learning_rate}, time: {time.time() - start_time}')\n",
    "    visualizer.plot(loss_dct)\n",
    "    visualizer.plot({'val_precision': val_precision})\n",
    "    visualizer.plot(val_ap_dct)\n",
    "    visualizer.plot({'test_precision': test_precision})"
   ]
  },
  {
   "cell_type": "code",
   "execution_count": null,
   "metadata": {},
   "outputs": [],
   "source": []
  },
  {
   "cell_type": "code",
   "execution_count": null,
   "metadata": {},
   "outputs": [],
   "source": []
  },
  {
   "cell_type": "code",
   "execution_count": 149,
   "metadata": {},
   "outputs": [],
   "source": [
    "torch.save(net.state_dict(), 'base_net_002.save')"
   ]
  },
  {
   "cell_type": "code",
   "execution_count": 2,
   "metadata": {},
   "outputs": [
    {
     "data": {
      "text/plain": [
       "{'loss': 529.4704940319061,\n",
       " 'val_precision': 0.78054,\n",
       " 'test_precision': 0.6408,\n",
       " 'learning_rate': 0.01,\n",
       " 'time': 19.557708978652954}"
      ]
     },
     "execution_count": 2,
     "metadata": {},
     "output_type": "execute_result"
    }
   ],
   "source": [
    "{'loss': 529.4704940319061, 'val_precision': 0.78054, 'test_precision': 0.6408, 'learning_rate': 0.01, 'time': 19.557708978652954}"
   ]
  },
  {
   "cell_type": "code",
   "execution_count": null,
   "metadata": {},
   "outputs": [],
   "source": []
  }
 ],
 "metadata": {
  "kernelspec": {
   "display_name": "Python [conda env:experiment]",
   "language": "python",
   "name": "conda-env-experiment-py"
  },
  "language_info": {
   "codemirror_mode": {
    "name": "ipython",
    "version": 3
   },
   "file_extension": ".py",
   "mimetype": "text/x-python",
   "name": "python",
   "nbconvert_exporter": "python",
   "pygments_lexer": "ipython3",
   "version": "3.7.3"
  }
 },
 "nbformat": 4,
 "nbformat_minor": 2
}
