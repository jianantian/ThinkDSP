{
 "cells": [
  {
   "cell_type": "code",
   "execution_count": 1,
   "metadata": {},
   "outputs": [],
   "source": [
    "import numpy as np\n",
    "import pandas as pd\n",
    "import torch\n",
    "from torch.utils import data"
   ]
  },
  {
   "cell_type": "code",
   "execution_count": 2,
   "metadata": {},
   "outputs": [],
   "source": [
    "from scipy.io import wavfile"
   ]
  },
  {
   "cell_type": "code",
   "execution_count": 3,
   "metadata": {},
   "outputs": [],
   "source": [
    "from functools import lru_cache"
   ]
  },
  {
   "cell_type": "code",
   "execution_count": 4,
   "metadata": {},
   "outputs": [],
   "source": [
    "from pathlib import Path"
   ]
  },
  {
   "cell_type": "code",
   "execution_count": 5,
   "metadata": {},
   "outputs": [],
   "source": [
    "from loguru import logger"
   ]
  },
  {
   "cell_type": "code",
   "execution_count": 6,
   "metadata": {},
   "outputs": [],
   "source": [
    "def data_loader(fname, input_length):\n",
    "    _, data = wavfile.read(fname)\n",
    "    data = data.astype(np.int32)\n",
    "    amp = np.max(data) - np.min(data)\n",
    "    if len(data) > input_length:\n",
    "        max_index = len(data) - input_length\n",
    "        offset = np.random.randint(max_index)\n",
    "        data = data[offset: input_length + offset]\n",
    "    elif len(data) < input_length:\n",
    "        total_pad = input_length - len(data)\n",
    "        head_pad = np.random.randint(total_pad)\n",
    "        tail_pad = total_pad - head_pad\n",
    "        data = np.pad(data, (head_pad, tail_pad), 'constant')\n",
    "    data = data.astype(dtype=np.float32) / amp - 0.5\n",
    "    return torch.from_numpy(data.copy()).float()"
   ]
  },
  {
   "cell_type": "code",
   "execution_count": 7,
   "metadata": {},
   "outputs": [],
   "source": [
    "def get_dataset_meta(filename):\n",
    "    raw_data = pd.read_csv(filename)\n",
    "    labels = tuple(raw_data.label.unique())\n",
    "    label_dct = {name: i for i, name in enumerate(labels)}\n",
    "    return labels, label_dct"
   ]
  },
  {
   "cell_type": "code",
   "execution_count": 8,
   "metadata": {},
   "outputs": [],
   "source": [
    "def get_test_data(filename):\n",
    "    \"\"\"\n",
    "    \"\"\"\n",
    "    dirname = Path(filename).parent\n",
    "    res_filename = dirname / 'train_validate.csv'\n",
    "    if res_filename.exists():\n",
    "        logger.info(f'Reading from {res_filename}')\n",
    "        return pd.read_csv(res_filename)\n",
    "    \n",
    "    data = pd.read_csv(filename)\n",
    "    num_data = len(data)\n",
    "    num = num_data // 10\n",
    "    test_bool = np.array([False] * num_data)\n",
    "    index_array = np.arange(num_data)\n",
    "    test_index = np.random.choice(index_array, num)\n",
    "    test_bool[test_index] = True\n",
    "    data['test'] = test_bool\n",
    "    data.to_csv(res_filename)\n",
    "    return data"
   ]
  },
  {
   "cell_type": "code",
   "execution_count": 9,
   "metadata": {},
   "outputs": [],
   "source": [
    "class Dataset(data.Dataset):\n",
    "    \"\"\"\n",
    "\n",
    "    \"\"\"\n",
    "\n",
    "    def __init__(self,\n",
    "                root,\n",
    "                data_frame,\n",
    "                input_length, \n",
    "                label_dct,\n",
    "                data_loader=data_loader):\n",
    "        self.root = Path(root)\n",
    "        self.input_length = input_length\n",
    "        self.__raw_data = data_frame\n",
    "        self.label_dct = label_dct\n",
    "        self.data_loader = data_loader\n",
    "    \n",
    "    @property\n",
    "    @lru_cache(maxsize=None)\n",
    "    def filenames(self):\n",
    "        return self.__raw_data.fname\n",
    "\n",
    "    def __len__(self):\n",
    "        \"\"\"\n",
    "\n",
    "        :return:\n",
    "        \"\"\"\n",
    "        return self.__raw_data.shape[0]\n",
    "\n",
    "    def __getitem__(self, index):\n",
    "        \"\"\"\n",
    "\n",
    "        :param index:\n",
    "        :return:\n",
    "        \"\"\"\n",
    "        \n",
    "        record = self.__raw_data.loc[index]\n",
    "        name = record.fname\n",
    "        file_name = self.root / name\n",
    "        label_name = record.label\n",
    "        data = self.data_loader(file_name, self.input_length)\n",
    "        label = self.label_dct[label_name]\n",
    "        return data, torch.tensor(label, dtype=torch.uint8)"
   ]
  },
  {
   "cell_type": "code",
   "execution_count": 10,
   "metadata": {},
   "outputs": [],
   "source": [
    "root = Path('/data/FSDKaggle2018/FSDKaggle2018.audio_train')\n",
    "train_fname = Path('/data/FSDKaggle2018/FSDKaggle2018.meta/train_post_competition.csv')"
   ]
  },
  {
   "cell_type": "code",
   "execution_count": 11,
   "metadata": {},
   "outputs": [],
   "source": [
    "labels, label_dct = get_dataset_meta(train_fname)"
   ]
  },
  {
   "cell_type": "code",
   "execution_count": 12,
   "metadata": {},
   "outputs": [
    {
     "name": "stderr",
     "output_type": "stream",
     "text": [
      "2019-06-20 14:12:45.243 | INFO     | __main__:get_test_data:7 - Reading from /data/FSDKaggle2018/FSDKaggle2018.meta/train_validate.csv\n"
     ]
    }
   ],
   "source": [
    "full_df = get_test_data(train_fname)"
   ]
  },
  {
   "cell_type": "code",
   "execution_count": 13,
   "metadata": {},
   "outputs": [],
   "source": [
    "train_df = full_df[full_df.test == False]\n",
    "train_df.index = range(len(train_df))"
   ]
  },
  {
   "cell_type": "code",
   "execution_count": 14,
   "metadata": {},
   "outputs": [],
   "source": [
    "test_df = full_df[full_df.test == True]\n",
    "test_df.index = range(len(test_df))"
   ]
  },
  {
   "cell_type": "code",
   "execution_count": 15,
   "metadata": {},
   "outputs": [],
   "source": [
    "train_dataset = Dataset(root, train_df, input_length=2 * 44100, label_dct=label_dct)"
   ]
  },
  {
   "cell_type": "code",
   "execution_count": 16,
   "metadata": {},
   "outputs": [],
   "source": [
    "test_dataset =  Dataset(root, test_df, input_length=2 * 44100, label_dct=label_dct)"
   ]
  },
  {
   "cell_type": "code",
   "execution_count": 17,
   "metadata": {},
   "outputs": [],
   "source": [
    "batch_size = len(train_dataset)"
   ]
  },
  {
   "cell_type": "code",
   "execution_count": 18,
   "metadata": {},
   "outputs": [],
   "source": [
    "# size_list = [train_dataset[i][0].shape for i in range(len(train_dataset))]"
   ]
  },
  {
   "cell_type": "code",
   "execution_count": 19,
   "metadata": {},
   "outputs": [],
   "source": [
    "train_data_iter = data.DataLoader(train_dataset, batch_size=len(train_dataset))"
   ]
  },
  {
   "cell_type": "code",
   "execution_count": 41,
   "metadata": {},
   "outputs": [],
   "source": [
    "test_data_iter = data.DataLoader(test_dataset, batch_size=len(test_dataset))"
   ]
  },
  {
   "cell_type": "code",
   "execution_count": 38,
   "metadata": {},
   "outputs": [],
   "source": [
    "def get_data(dataset):\n",
    "    for dt, label in dataset:\n",
    "        return dt.numpy(), label.numpy()"
   ]
  },
  {
   "cell_type": "code",
   "execution_count": 40,
   "metadata": {},
   "outputs": [],
   "source": [
    "train_dt, train_label = get_data(train_data_iter)"
   ]
  },
  {
   "cell_type": "code",
   "execution_count": 42,
   "metadata": {},
   "outputs": [],
   "source": [
    "test_dt, test_label = get_data(test_data_iter)"
   ]
  },
  {
   "cell_type": "code",
   "execution_count": 22,
   "metadata": {},
   "outputs": [],
   "source": [
    "import lightgbm as lgb"
   ]
  },
  {
   "cell_type": "code",
   "execution_count": 30,
   "metadata": {},
   "outputs": [],
   "source": [
    "train_data = lgb.Dataset(train_dt, label=train_label)"
   ]
  },
  {
   "cell_type": "code",
   "execution_count": 31,
   "metadata": {},
   "outputs": [],
   "source": [
    "num_class = len(labels)"
   ]
  },
  {
   "cell_type": "code",
   "execution_count": 32,
   "metadata": {},
   "outputs": [
    {
     "data": {
      "text/plain": [
       "41"
      ]
     },
     "execution_count": 32,
     "metadata": {},
     "output_type": "execute_result"
    }
   ],
   "source": [
    "num_class"
   ]
  },
  {
   "cell_type": "code",
   "execution_count": 33,
   "metadata": {},
   "outputs": [],
   "source": [
    "param = {'num_leaves': 31, 'objective': 'multiclass', 'num_class': num_class}\n",
    "param['metric'] = 'multi_logloss'"
   ]
  },
  {
   "cell_type": "code",
   "execution_count": 84,
   "metadata": {},
   "outputs": [],
   "source": [
    "num_round = 100"
   ]
  },
  {
   "cell_type": "code",
   "execution_count": null,
   "metadata": {},
   "outputs": [],
   "source": [
    "bst = lgb.train(param, train_data, num_round)"
   ]
  },
  {
   "cell_type": "code",
   "execution_count": 80,
   "metadata": {},
   "outputs": [],
   "source": [
    "from sklearn.metrics import accuracy_score"
   ]
  },
  {
   "cell_type": "code",
   "execution_count": 81,
   "metadata": {},
   "outputs": [],
   "source": [
    "prediction = bst.predict(test_dt)"
   ]
  },
  {
   "cell_type": "code",
   "execution_count": 82,
   "metadata": {},
   "outputs": [],
   "source": [
    "max_index = np.argmax(prediction, axis=1)"
   ]
  },
  {
   "cell_type": "code",
   "execution_count": 83,
   "metadata": {},
   "outputs": [
    {
     "data": {
      "text/plain": [
       "0.11391018619934283"
      ]
     },
     "execution_count": 83,
     "metadata": {},
     "output_type": "execute_result"
    }
   ],
   "source": [
    "accuracy_score(max_index, test_label)"
   ]
  },
  {
   "cell_type": "code",
   "execution_count": null,
   "metadata": {},
   "outputs": [],
   "source": []
  }
 ],
 "metadata": {
  "kernelspec": {
   "display_name": "Python [conda env:experiment]",
   "language": "python",
   "name": "conda-env-experiment-py"
  },
  "language_info": {
   "codemirror_mode": {
    "name": "ipython",
    "version": 3
   },
   "file_extension": ".py",
   "mimetype": "text/x-python",
   "name": "python",
   "nbconvert_exporter": "python",
   "pygments_lexer": "ipython3",
   "version": "3.7.3"
  }
 },
 "nbformat": 4,
 "nbformat_minor": 2
}
